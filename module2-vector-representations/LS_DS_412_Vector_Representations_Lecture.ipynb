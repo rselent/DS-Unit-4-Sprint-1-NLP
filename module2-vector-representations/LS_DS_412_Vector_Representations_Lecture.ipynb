{
 "cells": [
  {
   "cell_type": "markdown",
   "metadata": {},
   "source": [
    "Lambda School Data Science\n",
    "\n",
    "*Unit 4, Sprint 1, Module 2*\n",
    "\n",
    "---\n",
    "\n",
    "# Vector Representations (Prepare)\n",
    "\n",
    "\n",
    "As we learned yesterday, machines cannot intrepret raw text. We need to transform that text into something we/machines can more readily analyze. Yesterday, we did simple counts of counts to summarize the content of Amazon reviews. Today, we'll extend those concepts to talk about vector representations such as Bag of Words (BoW) and word embedding models. We'll use those representations for search, visualization, and prepare for our classification day tomorrow. \n",
    "\n",
    "Processing text data to prepare it for maching learning models often means translating the information from documents into a numerical format. Bag-of-Words approaches (sometimes referred to as Frequency-Based word embeddings) accomplish this by \"vectorizing\" tokenized documents. This is done by representing each document as a row in a dataframe and creating a column for each unique word in the corpora (group of documents). The presence or lack of a given word in a document is then represented either as a raw count of how many times a given word appears in a document (CountVectorizer) or as that word's TF-IDF score (TfidfVectorizer).\n",
    "\n",
    "On the python side, we will be focusing on `sklearn` and `spacy` today.  \n",
    "\n",
    "## Case Study\n",
    "\n",
    "We're going to pretend we're on the datascience team at the BBC. We want to recommend articles to visiters to on the BBC website based on the article they just read. Our team wants \n",
    "\n",
    "**Dataset:**\n",
    "\n",
    "[D. Greene and P. Cunningham. \"Practical Solutions to the Problem of Diagonal Dominance in Kernel Document Clustering\", Proc. ICML 2006.](http://mlg.ucd.ie/datasets/bbc.html)\n",
    "*Please note that the dataset has been sampled down to tech articles only.* \n",
    "\n",
    "## Learning Objectives\n",
    "* <a href=\"#p1\">Part 1</a>: Represent a document as a vector\n",
    "* <a href=\"#p2\">Part 2</a>: Query Documents by Similarity\n",
    "* <a href=\"#p3\">Part 3</a>: Apply word embedding models to create document vectors"
   ]
  },
  {
   "cell_type": "markdown",
   "metadata": {},
   "source": [
    "# Represent a document as a vector (Learn)\n",
    "<a id=\"p1\"></a>"
   ]
  },
  {
   "cell_type": "markdown",
   "metadata": {},
   "source": [
    "## Overview\n",
    "\n",
    "In this section, we are going to create Document Term Matrices (DTM). Each column represents a word. Each row represents a document. The value in each cell can be range of different things. The most traditional: counts of appearences of words, does the word appear at all (binary), and term-frequency inverse-document frequence (TF-IDF). \n",
    "\n",
    "**Discussion:** Don't we loose all the context and grammer if we do this? So Why does it work?"
   ]
  },
  {
   "cell_type": "markdown",
   "metadata": {
    "toc-hr-collapsed": true
   },
   "source": [
    "## Follow Along"
   ]
  },
  {
   "cell_type": "code",
   "execution_count": 1,
   "metadata": {},
   "outputs": [],
   "source": [
    "\"\"\" Import Statements \"\"\"\n",
    "\n",
    "# Classics\n",
    "import pandas as pd\n",
    "import seaborn as sns\n",
    "import matplotlib.pyplot as plt\n",
    "\n",
    "from sklearn.feature_extraction.text import CountVectorizer, TfidfVectorizer\n",
    "from sklearn.metrics.pairwise import cosine_similarity\n",
    "from sklearn.neighbors import NearestNeighbors\n",
    "from sklearn.decomposition import PCA\n",
    "\n",
    "import spacy\n",
    "nlp = spacy.load(\"en_core_web_lg\")"
   ]
  },
  {
   "cell_type": "markdown",
   "metadata": {},
   "source": [
    "**Warm Up (_3 Minutes_)**\n",
    "\n",
    "Extract the tokens from this sentence using Spacy. Text is from [OpenAI](https://openai.com/blog/better-language-models/)"
   ]
  },
  {
   "cell_type": "code",
   "execution_count": 2,
   "metadata": {},
   "outputs": [],
   "source": [
    "text = \"We created a new dataset which emphasizes diversity of content, by scraping content from the Internet. In order to preserve document quality, we used only pages which have been curated/filtered by humans—specifically, we used outbound links from Reddit which received at least 3 karma. This can be thought of as a heuristic indicator for whether other users found the link interesting (whether educational or funny), leading to higher data quality than other similar datasets, such as CommonCrawl.\""
   ]
  },
  {
   "cell_type": "code",
   "execution_count": 3,
   "metadata": {},
   "outputs": [
    {
     "name": "stdout",
     "output_type": "stream",
     "text": [
      "['create', 'new', 'dataset', 'emphasize', 'diversity', 'content', 'scrape', 'content', 'internet', 'order', 'preserve', 'document', 'quality', 'page', 'curate', 'filter', 'human', 'specifically', 'outbound', 'link', 'Reddit', 'receive', '3', 'karma', 'think', 'heuristic', 'indicator', 'user', 'find', 'link', 'interesting', 'educational', 'funny', 'lead', 'high', 'datum', 'quality', 'similar', 'dataset', 'CommonCrawl']\n"
     ]
    }
   ],
   "source": [
    "doc = nlp(text)\n",
    "\n",
    "print([token.lemma_ for token in doc if (token.is_stop != True) and (token.is_punct != True)])"
   ]
  },
  {
   "cell_type": "code",
   "execution_count": 2,
   "metadata": {},
   "outputs": [],
   "source": [
    "import os \n",
    "\n",
    "def gather_data(filefolder):\n",
    "    \"\"\" Produces List of Documents from a Directory\n",
    "    \n",
    "    filefolder (str): a path of .txt files\n",
    "    \n",
    "    returns list of strings \n",
    "    \"\"\"\n",
    "    \n",
    "    data = []\n",
    "    \n",
    "    files = os.listdir(filefolder) # Causes variation across machines\n",
    "    \n",
    "    for article in files: \n",
    "        \n",
    "        path = os.path.join(filefolder, article)\n",
    "                    \n",
    "        if  path[-3:] == 'txt':\n",
    "            with open(path, 'rb') as f:\n",
    "                data.append(f.read())\n",
    "    \n",
    "    return data"
   ]
  },
  {
   "cell_type": "code",
   "execution_count": 6,
   "metadata": {},
   "outputs": [],
   "source": [
    "data = gather_data('./data')"
   ]
  },
  {
   "cell_type": "code",
   "execution_count": 6,
   "metadata": {},
   "outputs": [
    {
     "data": {
      "text/plain": [
       "b'Ink helps drive democracy in Asia\\r\\n\\r\\nThe Kyrgyz Republic, a small, mountainous state of the former Soviet republic, is using invisible ink and ultraviolet readers in the country\\'s elections as part of a drive to prevent multiple voting.\\r\\n\\r\\nThis new technology is causing both worries and guarded optimism among different sectors of the population. In an effort to live up to its reputation in the 1990s as \"an island of democracy\", the Kyrgyz President, Askar Akaev, pushed through the law requiring the use of ink during the upcoming Parliamentary and Presidential elections. The US government agreed to fund all expenses associated with this decision.\\r\\n\\r\\nThe Kyrgyz Republic is seen by many experts as backsliding from the high point it reached in the mid-1990s with a hastily pushed through referendum in 2003, reducing the legislative branch to one chamber with 75 deputies. The use of ink is only one part of a general effort to show commitment towards more open elections - the German Embassy, the Soros Foundation and the Kyrgyz government have all contributed to purchase transparent ballot boxes.\\r\\n\\r\\nThe actual technology behind the ink is not that complicated. The ink is sprayed on a person\\'s left thumb. It dries and is not visible under normal light.\\r\\n\\r\\nHowever, the presence of ultraviolet light (of the kind used to verify money) causes the ink to glow with a neon yellow light. At the entrance to each polling station, one election official will scan voter\\'s fingers with UV lamp before allowing them to enter, and every voter will have his/her left thumb sprayed with ink before receiving the ballot. If the ink shows under the UV light the voter will not be allowed to enter the polling station. Likewise, any voter who refuses to be inked will not receive the ballot. These elections are assuming even greater significance because of two large factors - the upcoming parliamentary elections are a prelude to a potentially regime changing presidential election in the Autumn as well as the echo of recent elections in other former Soviet Republics, notably Ukraine and Georgia. The use of ink has been controversial - especially among groups perceived to be pro-government.\\r\\n\\r\\nWidely circulated articles compared the use of ink to the rural practice of marking sheep - a still common metaphor in this primarily agricultural society.\\r\\n\\r\\nThe author of one such article began a petition drive against the use of the ink. The greatest part of the opposition to ink has often been sheer ignorance. Local newspapers have carried stories that the ink is harmful, radioactive or even that the ultraviolet readers may cause health problems. Others, such as the aggressively middle of the road, Coalition of Non-governmental Organizations, have lauded the move as an important step forward. This type of ink has been used in many elections in the world, in countries as varied as Serbia, South Africa, Indonesia and Turkey. The other common type of ink in elections is indelible visible ink - but as the elections in Afghanistan showed, improper use of this type of ink can cause additional problems. The use of \"invisible\" ink is not without its own problems. In most elections, numerous rumors have spread about it.\\r\\n\\r\\nIn Serbia, for example, both Christian and Islamic leaders assured their populations that its use was not contrary to religion. Other rumours are associated with how to remove the ink - various soft drinks, solvents and cleaning products are put forward. However, in reality, the ink is very effective at getting under the cuticle of the thumb and difficult to wash off. The ink stays on the finger for at least 72 hours and for up to a week. The use of ink and readers by itself is not a panacea for election ills. The passage of the inking law is, nevertheless, a clear step forward towards free and fair elections.\" The country\\'s widely watched parliamentary elections are scheduled for 27 February.\\r\\n\\r\\nDavid Mikosz works for the IFES, an international, non-profit organisation that supports the building of democratic societies.\\r\\n'"
      ]
     },
     "execution_count": 6,
     "metadata": {},
     "output_type": "execute_result"
    }
   ],
   "source": [
    "data[0]"
   ]
  },
  {
   "cell_type": "markdown",
   "metadata": {},
   "source": [
    "### CountVectorizer"
   ]
  },
  {
   "cell_type": "code",
   "execution_count": 3,
   "metadata": {},
   "outputs": [],
   "source": [
    "from sklearn.feature_extraction.text import CountVectorizer\n",
    "\n",
    "# list of text documents\n",
    "text = [\"We created a new dataset which emphasizes diversity of content, by scraping content from the Internet.\",\" In order to preserve document quality, we used only pages which have been curated/filtered by humans—specifically, we used outbound links from Reddit which received at least 3 karma.\",\" This can be thought of as a heuristic indicator for whether other users found the link interesting (whether educational or funny), leading to higher data quality than other similar datasets, such as CommonCrawl.\"]\n",
    "\n",
    "# create the transformer\n",
    "vect = CountVectorizer()\n",
    "\n",
    "# build vocab\n",
    "vect.fit(text)\n",
    "\n",
    "# transform text\n",
    "dtm = vect.transform(text)\n",
    "\n",
    "# Create a Vocabulary\n",
    "# The vocabulary establishes all of the possible words that we might use.\n",
    "\n",
    "# The vocabulary dictionary does not represent the counts of words!!\n"
   ]
  },
  {
   "cell_type": "code",
   "execution_count": 8,
   "metadata": {},
   "outputs": [
    {
     "name": "stdout",
     "output_type": "stream",
     "text": [
      "['as', 'at', 'be', 'been', 'by', 'can', 'commoncrawl', 'content', 'created', 'curated', 'data', 'dataset', 'datasets', 'diversity', 'document', 'educational', 'emphasizes', 'filtered', 'for', 'found', 'from', 'funny', 'have', 'heuristic', 'higher', 'humans', 'in', 'indicator', 'interesting', 'internet', 'karma', 'leading', 'least', 'link', 'links', 'new', 'of', 'only', 'or', 'order', 'other', 'outbound', 'pages', 'preserve', 'quality', 'received', 'reddit', 'scraping', 'similar', 'specifically', 'such', 'than', 'the', 'this', 'thought', 'to', 'used', 'users', 'we', 'whether', 'which']\n"
     ]
    }
   ],
   "source": [
    "print(vect.get_feature_names())"
   ]
  },
  {
   "cell_type": "code",
   "execution_count": 9,
   "metadata": {},
   "outputs": [
    {
     "data": {
      "text/plain": [
       "['We created a new dataset which emphasizes diversity of content, by scraping content from the Internet.',\n",
       " ' In order to preserve document quality, we used only pages which have been curated/filtered by humans—specifically, we used outbound links from Reddit which received at least 3 karma.',\n",
       " ' This can be thought of as a heuristic indicator for whether other users found the link interesting (whether educational or funny), leading to higher data quality than other similar datasets, such as CommonCrawl.']"
      ]
     },
     "execution_count": 9,
     "metadata": {},
     "output_type": "execute_result"
    }
   ],
   "source": [
    "text[:25]"
   ]
  },
  {
   "cell_type": "code",
   "execution_count": 10,
   "metadata": {},
   "outputs": [
    {
     "name": "stdout",
     "output_type": "stream",
     "text": [
      "  (0, 4)\t1\n",
      "  (0, 7)\t2\n",
      "  (0, 8)\t1\n",
      "  (0, 11)\t1\n",
      "  (0, 13)\t1\n",
      "  (0, 16)\t1\n",
      "  (0, 20)\t1\n",
      "  (0, 29)\t1\n",
      "  (0, 35)\t1\n",
      "  (0, 36)\t1\n",
      "  (0, 47)\t1\n",
      "  (0, 52)\t1\n",
      "  (0, 58)\t1\n",
      "  (0, 60)\t1\n",
      "  (1, 1)\t1\n",
      "  (1, 3)\t1\n",
      "  (1, 4)\t1\n",
      "  (1, 9)\t1\n",
      "  (1, 14)\t1\n",
      "  (1, 17)\t1\n",
      "  (1, 20)\t1\n",
      "  (1, 22)\t1\n",
      "  (1, 25)\t1\n",
      "  (1, 26)\t1\n",
      "  (1, 30)\t1\n",
      "  :\t:\n",
      "  (2, 10)\t1\n",
      "  (2, 12)\t1\n",
      "  (2, 15)\t1\n",
      "  (2, 18)\t1\n",
      "  (2, 19)\t1\n",
      "  (2, 21)\t1\n",
      "  (2, 23)\t1\n",
      "  (2, 24)\t1\n",
      "  (2, 27)\t1\n",
      "  (2, 28)\t1\n",
      "  (2, 31)\t1\n",
      "  (2, 33)\t1\n",
      "  (2, 36)\t1\n",
      "  (2, 38)\t1\n",
      "  (2, 40)\t2\n",
      "  (2, 44)\t1\n",
      "  (2, 48)\t1\n",
      "  (2, 50)\t1\n",
      "  (2, 51)\t1\n",
      "  (2, 52)\t1\n",
      "  (2, 53)\t1\n",
      "  (2, 54)\t1\n",
      "  (2, 55)\t1\n",
      "  (2, 57)\t1\n",
      "  (2, 59)\t2\n"
     ]
    }
   ],
   "source": [
    "print(dtm)"
   ]
  },
  {
   "cell_type": "code",
   "execution_count": 11,
   "metadata": {},
   "outputs": [
    {
     "data": {
      "text/plain": [
       "matrix([[0, 0, 0, 0, 1, 0, 0, 2, 1, 0, 0, 1, 0, 1, 0, 0, 1, 0, 0, 0, 1,\n",
       "         0, 0, 0, 0, 0, 0, 0, 0, 1, 0, 0, 0, 0, 0, 1, 1, 0, 0, 0, 0, 0,\n",
       "         0, 0, 0, 0, 0, 1, 0, 0, 0, 0, 1, 0, 0, 0, 0, 0, 1, 0, 1],\n",
       "        [0, 1, 0, 1, 1, 0, 0, 0, 0, 1, 0, 0, 0, 0, 1, 0, 0, 1, 0, 0, 1,\n",
       "         0, 1, 0, 0, 1, 1, 0, 0, 0, 1, 0, 1, 0, 1, 0, 0, 1, 0, 1, 0, 1,\n",
       "         1, 1, 1, 1, 1, 0, 0, 1, 0, 0, 0, 0, 0, 1, 2, 0, 2, 0, 2],\n",
       "        [2, 0, 1, 0, 0, 1, 1, 0, 0, 0, 1, 0, 1, 0, 0, 1, 0, 0, 1, 1, 0,\n",
       "         1, 0, 1, 1, 0, 0, 1, 1, 0, 0, 1, 0, 1, 0, 0, 1, 0, 1, 0, 2, 0,\n",
       "         0, 0, 1, 0, 0, 0, 1, 0, 1, 1, 1, 1, 1, 1, 0, 1, 0, 2, 0]],\n",
       "       dtype=int64)"
      ]
     },
     "execution_count": 11,
     "metadata": {},
     "output_type": "execute_result"
    }
   ],
   "source": [
    "# Dealing with Sparse Matrix\n",
    "dtm.todense()"
   ]
  },
  {
   "cell_type": "code",
   "execution_count": 12,
   "metadata": {},
   "outputs": [
    {
     "data": {
      "text/html": [
       "<div>\n",
       "<style scoped>\n",
       "    .dataframe tbody tr th:only-of-type {\n",
       "        vertical-align: middle;\n",
       "    }\n",
       "\n",
       "    .dataframe tbody tr th {\n",
       "        vertical-align: top;\n",
       "    }\n",
       "\n",
       "    .dataframe thead th {\n",
       "        text-align: right;\n",
       "    }\n",
       "</style>\n",
       "<table border=\"1\" class=\"dataframe\">\n",
       "  <thead>\n",
       "    <tr style=\"text-align: right;\">\n",
       "      <th></th>\n",
       "      <th>as</th>\n",
       "      <th>at</th>\n",
       "      <th>be</th>\n",
       "      <th>been</th>\n",
       "      <th>by</th>\n",
       "      <th>can</th>\n",
       "      <th>commoncrawl</th>\n",
       "      <th>content</th>\n",
       "      <th>created</th>\n",
       "      <th>curated</th>\n",
       "      <th>...</th>\n",
       "      <th>than</th>\n",
       "      <th>the</th>\n",
       "      <th>this</th>\n",
       "      <th>thought</th>\n",
       "      <th>to</th>\n",
       "      <th>used</th>\n",
       "      <th>users</th>\n",
       "      <th>we</th>\n",
       "      <th>whether</th>\n",
       "      <th>which</th>\n",
       "    </tr>\n",
       "  </thead>\n",
       "  <tbody>\n",
       "    <tr>\n",
       "      <th>0</th>\n",
       "      <td>0</td>\n",
       "      <td>0</td>\n",
       "      <td>0</td>\n",
       "      <td>0</td>\n",
       "      <td>1</td>\n",
       "      <td>0</td>\n",
       "      <td>0</td>\n",
       "      <td>2</td>\n",
       "      <td>1</td>\n",
       "      <td>0</td>\n",
       "      <td>...</td>\n",
       "      <td>0</td>\n",
       "      <td>1</td>\n",
       "      <td>0</td>\n",
       "      <td>0</td>\n",
       "      <td>0</td>\n",
       "      <td>0</td>\n",
       "      <td>0</td>\n",
       "      <td>1</td>\n",
       "      <td>0</td>\n",
       "      <td>1</td>\n",
       "    </tr>\n",
       "    <tr>\n",
       "      <th>1</th>\n",
       "      <td>0</td>\n",
       "      <td>1</td>\n",
       "      <td>0</td>\n",
       "      <td>1</td>\n",
       "      <td>1</td>\n",
       "      <td>0</td>\n",
       "      <td>0</td>\n",
       "      <td>0</td>\n",
       "      <td>0</td>\n",
       "      <td>1</td>\n",
       "      <td>...</td>\n",
       "      <td>0</td>\n",
       "      <td>0</td>\n",
       "      <td>0</td>\n",
       "      <td>0</td>\n",
       "      <td>1</td>\n",
       "      <td>2</td>\n",
       "      <td>0</td>\n",
       "      <td>2</td>\n",
       "      <td>0</td>\n",
       "      <td>2</td>\n",
       "    </tr>\n",
       "    <tr>\n",
       "      <th>2</th>\n",
       "      <td>2</td>\n",
       "      <td>0</td>\n",
       "      <td>1</td>\n",
       "      <td>0</td>\n",
       "      <td>0</td>\n",
       "      <td>1</td>\n",
       "      <td>1</td>\n",
       "      <td>0</td>\n",
       "      <td>0</td>\n",
       "      <td>0</td>\n",
       "      <td>...</td>\n",
       "      <td>1</td>\n",
       "      <td>1</td>\n",
       "      <td>1</td>\n",
       "      <td>1</td>\n",
       "      <td>1</td>\n",
       "      <td>0</td>\n",
       "      <td>1</td>\n",
       "      <td>0</td>\n",
       "      <td>2</td>\n",
       "      <td>0</td>\n",
       "    </tr>\n",
       "  </tbody>\n",
       "</table>\n",
       "<p>3 rows × 61 columns</p>\n",
       "</div>"
      ],
      "text/plain": [
       "   as  at  be  been  by  can  commoncrawl  content  created  curated  ...  \\\n",
       "0   0   0   0     0   1    0            0        2        1        0  ...   \n",
       "1   0   1   0     1   1    0            0        0        0        1  ...   \n",
       "2   2   0   1     0   0    1            1        0        0        0  ...   \n",
       "\n",
       "   than  the  this  thought  to  used  users  we  whether  which  \n",
       "0     0    1     0        0   0     0      0   1        0      1  \n",
       "1     0    0     0        0   1     2      0   2        0      2  \n",
       "2     1    1     1        1   1     0      1   0        2      0  \n",
       "\n",
       "[3 rows x 61 columns]"
      ]
     },
     "execution_count": 12,
     "metadata": {},
     "output_type": "execute_result"
    }
   ],
   "source": [
    "# Get Word Counts for each document\n",
    "dtm = pd.DataFrame(dtm.todense(), columns=vect.get_feature_names())\n",
    "dtm"
   ]
  },
  {
   "cell_type": "code",
   "execution_count": 13,
   "metadata": {},
   "outputs": [
    {
     "data": {
      "text/plain": [
       "b'Ink helps drive democracy'"
      ]
     },
     "execution_count": 13,
     "metadata": {},
     "output_type": "execute_result"
    }
   ],
   "source": [
    "data[0][:25]"
   ]
  },
  {
   "cell_type": "code",
   "execution_count": 14,
   "metadata": {},
   "outputs": [
    {
     "data": {
      "text/plain": [
       "401"
      ]
     },
     "execution_count": 14,
     "metadata": {},
     "output_type": "execute_result"
    }
   ],
   "source": [
    "len(data)"
   ]
  },
  {
   "cell_type": "markdown",
   "metadata": {},
   "source": [
    "**Three Minute Challenge:** \n",
    "* Apply CountVectorizer to our BBC Data\n",
    "* Store results in a dataframe called `dtm`\n",
    "* Extra Challenge - Try to Customize CountVectorizer with Spacy Processing"
   ]
  },
  {
   "cell_type": "code",
   "execution_count": 7,
   "metadata": {},
   "outputs": [],
   "source": [
    "# Apply CountVectorizer to our Data\n",
    "# Use custom Spacy Vectorizer\n",
    "# BBC articles in `data` variable\n",
    "\n",
    "from sklearn.feature_extraction.text import CountVectorizer\n",
    "\n",
    "vect = CountVectorizer(stop_words='english', max_features= 1000)\n",
    "\n",
    "#Learn our Vocab\n",
    "vect.fit(data)\n",
    "\n",
    "# Get sparse dtm\n",
    "dtm = vect.transform(data)\n",
    "\n",
    "dtm = pd.DataFrame(dtm.todense(), columns=vect.get_feature_names())"
   ]
  },
  {
   "cell_type": "code",
   "execution_count": 16,
   "metadata": {},
   "outputs": [
    {
     "data": {
      "text/html": [
       "<div>\n",
       "<style scoped>\n",
       "    .dataframe tbody tr th:only-of-type {\n",
       "        vertical-align: middle;\n",
       "    }\n",
       "\n",
       "    .dataframe tbody tr th {\n",
       "        vertical-align: top;\n",
       "    }\n",
       "\n",
       "    .dataframe thead th {\n",
       "        text-align: right;\n",
       "    }\n",
       "</style>\n",
       "<table border=\"1\" class=\"dataframe\">\n",
       "  <thead>\n",
       "    <tr style=\"text-align: right;\">\n",
       "      <th></th>\n",
       "      <th>000</th>\n",
       "      <th>10</th>\n",
       "      <th>100</th>\n",
       "      <th>11</th>\n",
       "      <th>12</th>\n",
       "      <th>14</th>\n",
       "      <th>15</th>\n",
       "      <th>18</th>\n",
       "      <th>20</th>\n",
       "      <th>200</th>\n",
       "      <th>...</th>\n",
       "      <th>worldwide</th>\n",
       "      <th>worm</th>\n",
       "      <th>worth</th>\n",
       "      <th>writing</th>\n",
       "      <th>xbox</th>\n",
       "      <th>xp</th>\n",
       "      <th>yahoo</th>\n",
       "      <th>year</th>\n",
       "      <th>years</th>\n",
       "      <th>york</th>\n",
       "    </tr>\n",
       "  </thead>\n",
       "  <tbody>\n",
       "    <tr>\n",
       "      <th>0</th>\n",
       "      <td>0</td>\n",
       "      <td>0</td>\n",
       "      <td>0</td>\n",
       "      <td>0</td>\n",
       "      <td>0</td>\n",
       "      <td>0</td>\n",
       "      <td>0</td>\n",
       "      <td>0</td>\n",
       "      <td>0</td>\n",
       "      <td>0</td>\n",
       "      <td>...</td>\n",
       "      <td>0</td>\n",
       "      <td>0</td>\n",
       "      <td>0</td>\n",
       "      <td>0</td>\n",
       "      <td>0</td>\n",
       "      <td>0</td>\n",
       "      <td>0</td>\n",
       "      <td>0</td>\n",
       "      <td>0</td>\n",
       "      <td>0</td>\n",
       "    </tr>\n",
       "    <tr>\n",
       "      <th>1</th>\n",
       "      <td>1</td>\n",
       "      <td>0</td>\n",
       "      <td>1</td>\n",
       "      <td>0</td>\n",
       "      <td>2</td>\n",
       "      <td>0</td>\n",
       "      <td>0</td>\n",
       "      <td>0</td>\n",
       "      <td>0</td>\n",
       "      <td>1</td>\n",
       "      <td>...</td>\n",
       "      <td>0</td>\n",
       "      <td>0</td>\n",
       "      <td>0</td>\n",
       "      <td>0</td>\n",
       "      <td>0</td>\n",
       "      <td>0</td>\n",
       "      <td>0</td>\n",
       "      <td>0</td>\n",
       "      <td>0</td>\n",
       "      <td>0</td>\n",
       "    </tr>\n",
       "    <tr>\n",
       "      <th>2</th>\n",
       "      <td>0</td>\n",
       "      <td>0</td>\n",
       "      <td>0</td>\n",
       "      <td>0</td>\n",
       "      <td>0</td>\n",
       "      <td>0</td>\n",
       "      <td>0</td>\n",
       "      <td>0</td>\n",
       "      <td>0</td>\n",
       "      <td>0</td>\n",
       "      <td>...</td>\n",
       "      <td>0</td>\n",
       "      <td>0</td>\n",
       "      <td>0</td>\n",
       "      <td>0</td>\n",
       "      <td>0</td>\n",
       "      <td>0</td>\n",
       "      <td>0</td>\n",
       "      <td>0</td>\n",
       "      <td>0</td>\n",
       "      <td>0</td>\n",
       "    </tr>\n",
       "    <tr>\n",
       "      <th>3</th>\n",
       "      <td>0</td>\n",
       "      <td>0</td>\n",
       "      <td>2</td>\n",
       "      <td>0</td>\n",
       "      <td>0</td>\n",
       "      <td>0</td>\n",
       "      <td>0</td>\n",
       "      <td>0</td>\n",
       "      <td>1</td>\n",
       "      <td>2</td>\n",
       "      <td>...</td>\n",
       "      <td>0</td>\n",
       "      <td>0</td>\n",
       "      <td>0</td>\n",
       "      <td>0</td>\n",
       "      <td>0</td>\n",
       "      <td>0</td>\n",
       "      <td>0</td>\n",
       "      <td>2</td>\n",
       "      <td>3</td>\n",
       "      <td>0</td>\n",
       "    </tr>\n",
       "    <tr>\n",
       "      <th>4</th>\n",
       "      <td>0</td>\n",
       "      <td>0</td>\n",
       "      <td>1</td>\n",
       "      <td>0</td>\n",
       "      <td>0</td>\n",
       "      <td>0</td>\n",
       "      <td>1</td>\n",
       "      <td>0</td>\n",
       "      <td>0</td>\n",
       "      <td>0</td>\n",
       "      <td>...</td>\n",
       "      <td>0</td>\n",
       "      <td>0</td>\n",
       "      <td>0</td>\n",
       "      <td>0</td>\n",
       "      <td>0</td>\n",
       "      <td>0</td>\n",
       "      <td>0</td>\n",
       "      <td>2</td>\n",
       "      <td>1</td>\n",
       "      <td>0</td>\n",
       "    </tr>\n",
       "  </tbody>\n",
       "</table>\n",
       "<p>5 rows × 1000 columns</p>\n",
       "</div>"
      ],
      "text/plain": [
       "   000  10  100  11  12  14  15  18  20  200  ...  worldwide  worm  worth  \\\n",
       "0    0   0    0   0   0   0   0   0   0    0  ...          0     0      0   \n",
       "1    1   0    1   0   2   0   0   0   0    1  ...          0     0      0   \n",
       "2    0   0    0   0   0   0   0   0   0    0  ...          0     0      0   \n",
       "3    0   0    2   0   0   0   0   0   1    2  ...          0     0      0   \n",
       "4    0   0    1   0   0   0   1   0   0    0  ...          0     0      0   \n",
       "\n",
       "   writing  xbox  xp  yahoo  year  years  york  \n",
       "0        0     0   0      0     0      0     0  \n",
       "1        0     0   0      0     0      0     0  \n",
       "2        0     0   0      0     0      0     0  \n",
       "3        0     0   0      0     2      3     0  \n",
       "4        0     0   0      0     2      1     0  \n",
       "\n",
       "[5 rows x 1000 columns]"
      ]
     },
     "execution_count": 16,
     "metadata": {},
     "output_type": "execute_result"
    }
   ],
   "source": [
    "dtm.head()"
   ]
  },
  {
   "cell_type": "code",
   "execution_count": null,
   "metadata": {},
   "outputs": [],
   "source": []
  },
  {
   "cell_type": "code",
   "execution_count": 17,
   "metadata": {},
   "outputs": [],
   "source": [
    "doc_len = [len(doc) for doc in data]"
   ]
  },
  {
   "cell_type": "code",
   "execution_count": 18,
   "metadata": {},
   "outputs": [
    {
     "name": "stderr",
     "output_type": "stream",
     "text": [
      "C:\\Users\\reall\\Anaconda3\\envs\\U4-S1-NLP\\lib\\site-packages\\scipy\\stats\\stats.py:1713: FutureWarning: Using a non-tuple sequence for multidimensional indexing is deprecated; use `arr[tuple(seq)]` instead of `arr[seq]`. In the future this will be interpreted as an array index, `arr[np.array(seq)]`, which will result either in an error or a different result.\n",
      "  return np.add.reduce(sorted[indexer] * weights, axis=axis) / sumval\n"
     ]
    },
    {
     "data": {
      "image/png": "[encoded data removed]",
      "text/plain": [
       "<Figure size 432x288 with 1 Axes>"
      ]
     },
     "metadata": {
      "needs_background": "light"
     },
     "output_type": "display_data"
    }
   ],
   "source": [
    "import seaborn as sns\n",
    "\n",
    "sns.distplot(doc_len);"
   ]
  },
  {
   "cell_type": "markdown",
   "metadata": {},
   "source": [
    "### TfidfVectorizer\n",
    "\n",
    "## Term Frequency - Inverse Document Frequency (TF-IDF)\n",
    "\n",
    "<center><img src=\"https://mungingdata.files.wordpress.com/2017/11/equation.png?w=430&h=336\" width=\"300\"></center>\n",
    "\n",
    "Term Frequency: Percentage of words in document for each word\n",
    "\n",
    "Document Frequency: A penalty for the word existing in a high number of documents.\n",
    "\n",
    "The purpose of TF-IDF is to find what is **unique** to each document. Because of this we will penalize the term frequencies of words that are common across all documents which will allow for each document's most different topics to rise to the top."
   ]
  },
  {
   "cell_type": "code",
   "execution_count": 8,
   "metadata": {},
   "outputs": [
    {
     "data": {
      "text/html": [
       "<div>\n",
       "<style scoped>\n",
       "    .dataframe tbody tr th:only-of-type {\n",
       "        vertical-align: middle;\n",
       "    }\n",
       "\n",
       "    .dataframe tbody tr th {\n",
       "        vertical-align: top;\n",
       "    }\n",
       "\n",
       "    .dataframe thead th {\n",
       "        text-align: right;\n",
       "    }\n",
       "</style>\n",
       "<table border=\"1\" class=\"dataframe\">\n",
       "  <thead>\n",
       "    <tr style=\"text-align: right;\">\n",
       "      <th></th>\n",
       "      <th>00</th>\n",
       "      <th>000</th>\n",
       "      <th>000s</th>\n",
       "      <th>0051</th>\n",
       "      <th>007</th>\n",
       "      <th>01</th>\n",
       "      <th>028</th>\n",
       "      <th>04m</th>\n",
       "      <th>05</th>\n",
       "      <th>0530</th>\n",
       "      <th>...</th>\n",
       "      <th>zip</th>\n",
       "      <th>zodiac</th>\n",
       "      <th>zombie</th>\n",
       "      <th>zombies</th>\n",
       "      <th>zone</th>\n",
       "      <th>zonealarm</th>\n",
       "      <th>zones</th>\n",
       "      <th>zoom</th>\n",
       "      <th>zooms</th>\n",
       "      <th>zurich</th>\n",
       "    </tr>\n",
       "  </thead>\n",
       "  <tbody>\n",
       "    <tr>\n",
       "      <th>0</th>\n",
       "      <td>0.0</td>\n",
       "      <td>0.000000</td>\n",
       "      <td>0.0</td>\n",
       "      <td>0.0</td>\n",
       "      <td>0.0</td>\n",
       "      <td>0.0</td>\n",
       "      <td>0.0</td>\n",
       "      <td>0.0</td>\n",
       "      <td>0.0</td>\n",
       "      <td>0.0</td>\n",
       "      <td>...</td>\n",
       "      <td>0.0</td>\n",
       "      <td>0.0</td>\n",
       "      <td>0.0</td>\n",
       "      <td>0.0</td>\n",
       "      <td>0.0</td>\n",
       "      <td>0.0</td>\n",
       "      <td>0.0</td>\n",
       "      <td>0.0</td>\n",
       "      <td>0.0</td>\n",
       "      <td>0.0</td>\n",
       "    </tr>\n",
       "    <tr>\n",
       "      <th>1</th>\n",
       "      <td>0.0</td>\n",
       "      <td>0.020568</td>\n",
       "      <td>0.0</td>\n",
       "      <td>0.0</td>\n",
       "      <td>0.0</td>\n",
       "      <td>0.0</td>\n",
       "      <td>0.0</td>\n",
       "      <td>0.0</td>\n",
       "      <td>0.0</td>\n",
       "      <td>0.0</td>\n",
       "      <td>...</td>\n",
       "      <td>0.0</td>\n",
       "      <td>0.0</td>\n",
       "      <td>0.0</td>\n",
       "      <td>0.0</td>\n",
       "      <td>0.0</td>\n",
       "      <td>0.0</td>\n",
       "      <td>0.0</td>\n",
       "      <td>0.0</td>\n",
       "      <td>0.0</td>\n",
       "      <td>0.0</td>\n",
       "    </tr>\n",
       "    <tr>\n",
       "      <th>2</th>\n",
       "      <td>0.0</td>\n",
       "      <td>0.000000</td>\n",
       "      <td>0.0</td>\n",
       "      <td>0.0</td>\n",
       "      <td>0.0</td>\n",
       "      <td>0.0</td>\n",
       "      <td>0.0</td>\n",
       "      <td>0.0</td>\n",
       "      <td>0.0</td>\n",
       "      <td>0.0</td>\n",
       "      <td>...</td>\n",
       "      <td>0.0</td>\n",
       "      <td>0.0</td>\n",
       "      <td>0.0</td>\n",
       "      <td>0.0</td>\n",
       "      <td>0.0</td>\n",
       "      <td>0.0</td>\n",
       "      <td>0.0</td>\n",
       "      <td>0.0</td>\n",
       "      <td>0.0</td>\n",
       "      <td>0.0</td>\n",
       "    </tr>\n",
       "    <tr>\n",
       "      <th>3</th>\n",
       "      <td>0.0</td>\n",
       "      <td>0.000000</td>\n",
       "      <td>0.0</td>\n",
       "      <td>0.0</td>\n",
       "      <td>0.0</td>\n",
       "      <td>0.0</td>\n",
       "      <td>0.0</td>\n",
       "      <td>0.0</td>\n",
       "      <td>0.0</td>\n",
       "      <td>0.0</td>\n",
       "      <td>...</td>\n",
       "      <td>0.0</td>\n",
       "      <td>0.0</td>\n",
       "      <td>0.0</td>\n",
       "      <td>0.0</td>\n",
       "      <td>0.0</td>\n",
       "      <td>0.0</td>\n",
       "      <td>0.0</td>\n",
       "      <td>0.0</td>\n",
       "      <td>0.0</td>\n",
       "      <td>0.0</td>\n",
       "    </tr>\n",
       "    <tr>\n",
       "      <th>4</th>\n",
       "      <td>0.0</td>\n",
       "      <td>0.000000</td>\n",
       "      <td>0.0</td>\n",
       "      <td>0.0</td>\n",
       "      <td>0.0</td>\n",
       "      <td>0.0</td>\n",
       "      <td>0.0</td>\n",
       "      <td>0.0</td>\n",
       "      <td>0.0</td>\n",
       "      <td>0.0</td>\n",
       "      <td>...</td>\n",
       "      <td>0.0</td>\n",
       "      <td>0.0</td>\n",
       "      <td>0.0</td>\n",
       "      <td>0.0</td>\n",
       "      <td>0.0</td>\n",
       "      <td>0.0</td>\n",
       "      <td>0.0</td>\n",
       "      <td>0.0</td>\n",
       "      <td>0.0</td>\n",
       "      <td>0.0</td>\n",
       "    </tr>\n",
       "  </tbody>\n",
       "</table>\n",
       "<p>5 rows × 11820 columns</p>\n",
       "</div>"
      ],
      "text/plain": [
       "    00       000  000s  0051  007   01  028  04m   05  0530  ...  zip  zodiac  \\\n",
       "0  0.0  0.000000   0.0   0.0  0.0  0.0  0.0  0.0  0.0   0.0  ...  0.0     0.0   \n",
       "1  0.0  0.020568   0.0   0.0  0.0  0.0  0.0  0.0  0.0   0.0  ...  0.0     0.0   \n",
       "2  0.0  0.000000   0.0   0.0  0.0  0.0  0.0  0.0  0.0   0.0  ...  0.0     0.0   \n",
       "3  0.0  0.000000   0.0   0.0  0.0  0.0  0.0  0.0  0.0   0.0  ...  0.0     0.0   \n",
       "4  0.0  0.000000   0.0   0.0  0.0  0.0  0.0  0.0  0.0   0.0  ...  0.0     0.0   \n",
       "\n",
       "   zombie  zombies  zone  zonealarm  zones  zoom  zooms  zurich  \n",
       "0     0.0      0.0   0.0        0.0    0.0   0.0    0.0     0.0  \n",
       "1     0.0      0.0   0.0        0.0    0.0   0.0    0.0     0.0  \n",
       "2     0.0      0.0   0.0        0.0    0.0   0.0    0.0     0.0  \n",
       "3     0.0      0.0   0.0        0.0    0.0   0.0    0.0     0.0  \n",
       "4     0.0      0.0   0.0        0.0    0.0   0.0    0.0     0.0  \n",
       "\n",
       "[5 rows x 11820 columns]"
      ]
     },
     "execution_count": 8,
     "metadata": {},
     "output_type": "execute_result"
    }
   ],
   "source": [
    "from sklearn.feature_extraction.text import TfidfVectorizer\n",
    "\n",
    "# Instantiate vectorizer object\n",
    "tfidf = TfidfVectorizer(stop_words='english')\n",
    "\n",
    "# Create a vocabulary and get word counts per document\n",
    "# Similiar to fit_predict\n",
    "dtm = tfidf.fit_transform(data)\n",
    "\n",
    "# Print word counts\n",
    "\n",
    "# Get feature names to use as dataframe column headers\n",
    "dtm = pd.DataFrame(dtm.todense(), columns=tfidf.get_feature_names())\n",
    "\n",
    "# View Feature Matrix as DataFrame\n",
    "dtm.head()"
   ]
  },
  {
   "cell_type": "code",
   "execution_count": 9,
   "metadata": {},
   "outputs": [],
   "source": [
    "def tokenize(document):\n",
    "    \n",
    "    doc = nlp(document)\n",
    "    \n",
    "    return [token.lemma_.strip() for token in doc if (token.is_stop != True) and (token.is_punct != True)]"
   ]
  },
  {
   "cell_type": "markdown",
   "metadata": {},
   "source": [
    "text data machines\n",
    "\n",
    "\"text data\" \"data machines\" \"text machines\""
   ]
  },
  {
   "cell_type": "code",
   "execution_count": 11,
   "metadata": {},
   "outputs": [
    {
     "data": {
      "text/html": [
       "<div>\n",
       "<style scoped>\n",
       "    .dataframe tbody tr th:only-of-type {\n",
       "        vertical-align: middle;\n",
       "    }\n",
       "\n",
       "    .dataframe tbody tr th {\n",
       "        vertical-align: top;\n",
       "    }\n",
       "\n",
       "    .dataframe thead th {\n",
       "        text-align: right;\n",
       "    }\n",
       "</style>\n",
       "<table border=\"1\" class=\"dataframe\">\n",
       "  <thead>\n",
       "    <tr style=\"text-align: right;\">\n",
       "      <th></th>\n",
       "      <th>10</th>\n",
       "      <th>15</th>\n",
       "      <th>2004</th>\n",
       "      <th>50</th>\n",
       "      <th>ability</th>\n",
       "      <th>accord</th>\n",
       "      <th>add</th>\n",
       "      <th>airline</th>\n",
       "      <th>announce</th>\n",
       "      <th>anti</th>\n",
       "      <th>...</th>\n",
       "      <th>£ 11.5</th>\n",
       "      <th>£ 132</th>\n",
       "      <th>£ 2,000</th>\n",
       "      <th>£ 20</th>\n",
       "      <th>£ 339</th>\n",
       "      <th>£ 4.99</th>\n",
       "      <th>£ 40</th>\n",
       "      <th>£ 5</th>\n",
       "      <th>£ 50</th>\n",
       "      <th>£ 99</th>\n",
       "    </tr>\n",
       "  </thead>\n",
       "  <tbody>\n",
       "    <tr>\n",
       "      <th>0</th>\n",
       "      <td>0.0</td>\n",
       "      <td>0.0</td>\n",
       "      <td>0.0</td>\n",
       "      <td>0.0</td>\n",
       "      <td>0.0</td>\n",
       "      <td>0.000000</td>\n",
       "      <td>0.0</td>\n",
       "      <td>0.0</td>\n",
       "      <td>0.0</td>\n",
       "      <td>0.0</td>\n",
       "      <td>...</td>\n",
       "      <td>0.0</td>\n",
       "      <td>0.0</td>\n",
       "      <td>0.0</td>\n",
       "      <td>0.0</td>\n",
       "      <td>0.0</td>\n",
       "      <td>0.0</td>\n",
       "      <td>0.0</td>\n",
       "      <td>0.0</td>\n",
       "      <td>0.0</td>\n",
       "      <td>0.0</td>\n",
       "    </tr>\n",
       "    <tr>\n",
       "      <th>1</th>\n",
       "      <td>0.0</td>\n",
       "      <td>0.0</td>\n",
       "      <td>0.0</td>\n",
       "      <td>0.0</td>\n",
       "      <td>0.0</td>\n",
       "      <td>0.034704</td>\n",
       "      <td>0.0</td>\n",
       "      <td>0.0</td>\n",
       "      <td>0.0</td>\n",
       "      <td>0.0</td>\n",
       "      <td>...</td>\n",
       "      <td>0.0</td>\n",
       "      <td>0.0</td>\n",
       "      <td>0.0</td>\n",
       "      <td>0.0</td>\n",
       "      <td>0.0</td>\n",
       "      <td>0.0</td>\n",
       "      <td>0.0</td>\n",
       "      <td>0.0</td>\n",
       "      <td>0.0</td>\n",
       "      <td>0.0</td>\n",
       "    </tr>\n",
       "    <tr>\n",
       "      <th>2</th>\n",
       "      <td>0.0</td>\n",
       "      <td>0.0</td>\n",
       "      <td>0.0</td>\n",
       "      <td>0.0</td>\n",
       "      <td>0.0</td>\n",
       "      <td>0.000000</td>\n",
       "      <td>0.0</td>\n",
       "      <td>0.0</td>\n",
       "      <td>0.0</td>\n",
       "      <td>0.0</td>\n",
       "      <td>...</td>\n",
       "      <td>0.0</td>\n",
       "      <td>0.0</td>\n",
       "      <td>0.0</td>\n",
       "      <td>0.0</td>\n",
       "      <td>0.0</td>\n",
       "      <td>0.0</td>\n",
       "      <td>0.0</td>\n",
       "      <td>0.0</td>\n",
       "      <td>0.0</td>\n",
       "      <td>0.0</td>\n",
       "    </tr>\n",
       "    <tr>\n",
       "      <th>3</th>\n",
       "      <td>0.0</td>\n",
       "      <td>0.0</td>\n",
       "      <td>0.0</td>\n",
       "      <td>0.0</td>\n",
       "      <td>0.0</td>\n",
       "      <td>0.000000</td>\n",
       "      <td>0.0</td>\n",
       "      <td>0.0</td>\n",
       "      <td>0.0</td>\n",
       "      <td>0.0</td>\n",
       "      <td>...</td>\n",
       "      <td>0.0</td>\n",
       "      <td>0.0</td>\n",
       "      <td>0.0</td>\n",
       "      <td>0.0</td>\n",
       "      <td>0.0</td>\n",
       "      <td>0.0</td>\n",
       "      <td>0.0</td>\n",
       "      <td>0.0</td>\n",
       "      <td>0.0</td>\n",
       "      <td>0.0</td>\n",
       "    </tr>\n",
       "    <tr>\n",
       "      <th>4</th>\n",
       "      <td>0.0</td>\n",
       "      <td>0.0</td>\n",
       "      <td>0.0</td>\n",
       "      <td>0.0</td>\n",
       "      <td>0.0</td>\n",
       "      <td>0.000000</td>\n",
       "      <td>0.0</td>\n",
       "      <td>0.0</td>\n",
       "      <td>0.0</td>\n",
       "      <td>0.0</td>\n",
       "      <td>...</td>\n",
       "      <td>0.0</td>\n",
       "      <td>0.0</td>\n",
       "      <td>0.0</td>\n",
       "      <td>0.0</td>\n",
       "      <td>0.0</td>\n",
       "      <td>0.0</td>\n",
       "      <td>0.0</td>\n",
       "      <td>0.0</td>\n",
       "      <td>0.0</td>\n",
       "      <td>0.0</td>\n",
       "    </tr>\n",
       "  </tbody>\n",
       "</table>\n",
       "<p>5 rows × 8221 columns</p>\n",
       "</div>"
      ],
      "text/plain": [
       "    10   15   2004   50   ability    accord   add   airline   announce   anti  \\\n",
       "0  0.0  0.0    0.0  0.0       0.0  0.000000   0.0       0.0        0.0    0.0   \n",
       "1  0.0  0.0    0.0  0.0       0.0  0.034704   0.0       0.0        0.0    0.0   \n",
       "2  0.0  0.0    0.0  0.0       0.0  0.000000   0.0       0.0        0.0    0.0   \n",
       "3  0.0  0.0    0.0  0.0       0.0  0.000000   0.0       0.0        0.0    0.0   \n",
       "4  0.0  0.0    0.0  0.0       0.0  0.000000   0.0       0.0        0.0    0.0   \n",
       "\n",
       "   ...  £ 11.5  £ 132  £ 2,000  £ 20  £ 339  £ 4.99  £ 40  £ 5  £ 50  £ 99  \n",
       "0  ...     0.0    0.0      0.0   0.0    0.0     0.0   0.0  0.0   0.0   0.0  \n",
       "1  ...     0.0    0.0      0.0   0.0    0.0     0.0   0.0  0.0   0.0   0.0  \n",
       "2  ...     0.0    0.0      0.0   0.0    0.0     0.0   0.0  0.0   0.0   0.0  \n",
       "3  ...     0.0    0.0      0.0   0.0    0.0     0.0   0.0  0.0   0.0   0.0  \n",
       "4  ...     0.0    0.0      0.0   0.0    0.0     0.0   0.0  0.0   0.0   0.0  \n",
       "\n",
       "[5 rows x 8221 columns]"
      ]
     },
     "execution_count": 11,
     "metadata": {},
     "output_type": "execute_result"
    }
   ],
   "source": [
    "# Tunning Parameters\n",
    "\n",
    "# Instantiate vectorizer object\n",
    "tfidf = TfidfVectorizer( stop_words= 'english', ngram_range= (1, 2), max_df= .97, min_df= 3, tokenizer= tokenize)\n",
    "\n",
    "# Create a vocabulary and get word counts per document\n",
    "dtm = tfidf.fit_transform( data) # Similiar to fit_predict\n",
    "\n",
    "# Print word counts\n",
    "\n",
    "# Get feature names to use as dataframe column headers\n",
    "dtm = pd.DataFrame( dtm.todense(), columns= tfidf.get_feature_names())\n",
    "\n",
    "# View Feature Matrix as DataFrame\n",
    "dtm.head()"
   ]
  },
  {
   "cell_type": "code",
   "execution_count": null,
   "metadata": {},
   "outputs": [],
   "source": [
    "dtm.shape"
   ]
  },
  {
   "cell_type": "markdown",
   "metadata": {},
   "source": [
    "## Challenge\n",
    "\n",
    "During this module's project assignment, you will transform data science job listings to vector representations for analysis downstream. "
   ]
  },
  {
   "cell_type": "markdown",
   "metadata": {},
   "source": [
    "# Query Documents by Similarity (Learn)\n",
    "<a id=\"p2\"></a>"
   ]
  },
  {
   "cell_type": "markdown",
   "metadata": {},
   "source": [
    "## Overview\n",
    "\n",
    "Have you ever considered how a search bar works? You may just think that search bars simply match your input text againist the documents. While there are many different mechanisms for the 'match', one of the most classic is to search by similarity. We will apply n-dimensional distance to measure similarity, and query for input and output. "
   ]
  },
  {
   "cell_type": "markdown",
   "metadata": {
    "toc-hr-collapsed": true
   },
   "source": [
    "## Follow Along"
   ]
  },
  {
   "cell_type": "markdown",
   "metadata": {},
   "source": [
    "### Cosine Similarity (Brute Force)"
   ]
  },
  {
   "cell_type": "code",
   "execution_count": 12,
   "metadata": {},
   "outputs": [],
   "source": [
    "# Calculate Distance of TF-IDF Vectors\n",
    "from sklearn.metrics.pairwise import cosine_similarity\n",
    "\n",
    "dist_matrix  = cosine_similarity(dtm)"
   ]
  },
  {
   "cell_type": "code",
   "execution_count": 14,
   "metadata": {},
   "outputs": [],
   "source": [
    "# Turn it into a DataFrame\n",
    "\n",
    "df = pd.DataFrame( dist_matrix)"
   ]
  },
  {
   "cell_type": "code",
   "execution_count": 15,
   "metadata": {},
   "outputs": [
    {
     "data": {
      "text/plain": [
       "(401, 401)"
      ]
     },
     "execution_count": 15,
     "metadata": {},
     "output_type": "execute_result"
    }
   ],
   "source": [
    "# Our Similarity Matrix is ? size \n",
    "\n",
    "df.shape"
   ]
  },
  {
   "cell_type": "code",
   "execution_count": 16,
   "metadata": {},
   "outputs": [
    {
     "data": {
      "text/plain": [
       "0    1.000000\n",
       "1    0.023554\n",
       "2    0.009830\n",
       "3    0.016465\n",
       "4    0.019283\n",
       "Name: 0, dtype: float64"
      ]
     },
     "execution_count": 16,
     "metadata": {},
     "output_type": "execute_result"
    }
   ],
   "source": [
    "# Each row is the similarity of one document to all other documents (including itself)\n",
    "df[0][:5]"
   ]
  },
  {
   "cell_type": "code",
   "execution_count": 17,
   "metadata": {},
   "outputs": [
    {
     "data": {
      "text/plain": [
       "332    0.253852\n",
       "36     0.209263\n",
       "242    0.103226\n",
       "100    0.101259\n",
       "208    0.099756\n",
       "Name: 0, dtype: float64"
      ]
     },
     "execution_count": 17,
     "metadata": {},
     "output_type": "execute_result"
    }
   ],
   "source": [
    "# Grab the row\n",
    "df[df[0] < 1][0].sort_values(ascending=False)[:5]"
   ]
  },
  {
   "cell_type": "code",
   "execution_count": 18,
   "metadata": {},
   "outputs": [
    {
     "name": "stdout",
     "output_type": "stream",
     "text": [
      "b'Ink helps drive democracy in Asia\\r\\n\\r\\nThe Kyrgyz Republic, a small, mountainous state of the former Soviet republic, is using invisible ink and ultravi'\n"
     ]
    }
   ],
   "source": [
    "print(data[0][:150])"
   ]
  },
  {
   "cell_type": "code",
   "execution_count": 19,
   "metadata": {},
   "outputs": [
    {
     "name": "stdout",
     "output_type": "stream",
     "text": [
      "b'Rivals of the \\xc2\\xa3400 Apple...\\r\\n\\r\\nThe Mac mini is the cheapest Apple computer ever. But though it is cheap for a Mac how does it compare to PCs that cos'\n"
     ]
    }
   ],
   "source": [
    "print(data[300][:150])"
   ]
  },
  {
   "cell_type": "markdown",
   "metadata": {},
   "source": [
    "### NearestNeighbor (K-NN) \n",
    "\n",
    "To address the computational inefficiencies of the brute-force approach, a variety of tree-based data structures have been invented. In general, these structures attempt to reduce the required number of distance calculations by efficiently encoding aggregate distance information for the sample. The basic idea is that if point  is very distant from point , and point  is very close to point , then we know that points  and  are very distant, without having to explicitly calculate their distance. In this way, the computational cost of a nearest neighbors search can be reduced to  or better. This is a significant improvement over brute-force for large data.\n",
    "\n",
    "To address the inefficiencies of KD Trees in higher dimensions, the ball tree data structure was developed. Where KD trees partition data along Cartesian axes, ball trees partition data in a series of nesting hyper-spheres. This makes tree construction more costly than that of the KD tree, but results in a data structure which can be very efficient on highly structured data, even in very high dimensions.\n",
    "\n",
    "A ball tree recursively divides the data into nodes defined by a centroid  and radius , such that each point in the node lies within the hyper-sphere defined by  and . The number of candidate points for a neighbor search is reduced through use of the triangle inequality:\n",
    "\n",
    "With this setup, a single distance calculation between a test point and the centroid is sufficient to determine a lower and upper bound on the distance to all points within the node. Because of the spherical geometry of the ball tree nodes, it can out-perform a KD-tree in high dimensions, though the actual performance is highly dependent on the structure of the training data. In scikit-learn, ball-tree-based neighbors searches are specified using the keyword algorithm = 'ball_tree', and are computed using the class sklearn.neighbors.BallTree. Alternatively, the user can work with the BallTree class directly."
   ]
  },
  {
   "cell_type": "code",
   "execution_count": 20,
   "metadata": {},
   "outputs": [
    {
     "data": {
      "text/html": [
       "<div>\n",
       "<style scoped>\n",
       "    .dataframe tbody tr th:only-of-type {\n",
       "        vertical-align: middle;\n",
       "    }\n",
       "\n",
       "    .dataframe tbody tr th {\n",
       "        vertical-align: top;\n",
       "    }\n",
       "\n",
       "    .dataframe thead th {\n",
       "        text-align: right;\n",
       "    }\n",
       "</style>\n",
       "<table border=\"1\" class=\"dataframe\">\n",
       "  <thead>\n",
       "    <tr style=\"text-align: right;\">\n",
       "      <th></th>\n",
       "      <th>10</th>\n",
       "      <th>15</th>\n",
       "      <th>2004</th>\n",
       "      <th>50</th>\n",
       "      <th>ability</th>\n",
       "      <th>accord</th>\n",
       "      <th>add</th>\n",
       "      <th>airline</th>\n",
       "      <th>announce</th>\n",
       "      <th>anti</th>\n",
       "      <th>...</th>\n",
       "      <th>£ 11.5</th>\n",
       "      <th>£ 132</th>\n",
       "      <th>£ 2,000</th>\n",
       "      <th>£ 20</th>\n",
       "      <th>£ 339</th>\n",
       "      <th>£ 4.99</th>\n",
       "      <th>£ 40</th>\n",
       "      <th>£ 5</th>\n",
       "      <th>£ 50</th>\n",
       "      <th>£ 99</th>\n",
       "    </tr>\n",
       "  </thead>\n",
       "  <tbody>\n",
       "    <tr>\n",
       "      <th>0</th>\n",
       "      <td>0.0</td>\n",
       "      <td>0.0</td>\n",
       "      <td>0.0</td>\n",
       "      <td>0.0</td>\n",
       "      <td>0.0</td>\n",
       "      <td>0.000000</td>\n",
       "      <td>0.0</td>\n",
       "      <td>0.0</td>\n",
       "      <td>0.0</td>\n",
       "      <td>0.0</td>\n",
       "      <td>...</td>\n",
       "      <td>0.0</td>\n",
       "      <td>0.0</td>\n",
       "      <td>0.0</td>\n",
       "      <td>0.0</td>\n",
       "      <td>0.0</td>\n",
       "      <td>0.0</td>\n",
       "      <td>0.0</td>\n",
       "      <td>0.0</td>\n",
       "      <td>0.0</td>\n",
       "      <td>0.0</td>\n",
       "    </tr>\n",
       "    <tr>\n",
       "      <th>1</th>\n",
       "      <td>0.0</td>\n",
       "      <td>0.0</td>\n",
       "      <td>0.0</td>\n",
       "      <td>0.0</td>\n",
       "      <td>0.0</td>\n",
       "      <td>0.034704</td>\n",
       "      <td>0.0</td>\n",
       "      <td>0.0</td>\n",
       "      <td>0.0</td>\n",
       "      <td>0.0</td>\n",
       "      <td>...</td>\n",
       "      <td>0.0</td>\n",
       "      <td>0.0</td>\n",
       "      <td>0.0</td>\n",
       "      <td>0.0</td>\n",
       "      <td>0.0</td>\n",
       "      <td>0.0</td>\n",
       "      <td>0.0</td>\n",
       "      <td>0.0</td>\n",
       "      <td>0.0</td>\n",
       "      <td>0.0</td>\n",
       "    </tr>\n",
       "    <tr>\n",
       "      <th>2</th>\n",
       "      <td>0.0</td>\n",
       "      <td>0.0</td>\n",
       "      <td>0.0</td>\n",
       "      <td>0.0</td>\n",
       "      <td>0.0</td>\n",
       "      <td>0.000000</td>\n",
       "      <td>0.0</td>\n",
       "      <td>0.0</td>\n",
       "      <td>0.0</td>\n",
       "      <td>0.0</td>\n",
       "      <td>...</td>\n",
       "      <td>0.0</td>\n",
       "      <td>0.0</td>\n",
       "      <td>0.0</td>\n",
       "      <td>0.0</td>\n",
       "      <td>0.0</td>\n",
       "      <td>0.0</td>\n",
       "      <td>0.0</td>\n",
       "      <td>0.0</td>\n",
       "      <td>0.0</td>\n",
       "      <td>0.0</td>\n",
       "    </tr>\n",
       "    <tr>\n",
       "      <th>3</th>\n",
       "      <td>0.0</td>\n",
       "      <td>0.0</td>\n",
       "      <td>0.0</td>\n",
       "      <td>0.0</td>\n",
       "      <td>0.0</td>\n",
       "      <td>0.000000</td>\n",
       "      <td>0.0</td>\n",
       "      <td>0.0</td>\n",
       "      <td>0.0</td>\n",
       "      <td>0.0</td>\n",
       "      <td>...</td>\n",
       "      <td>0.0</td>\n",
       "      <td>0.0</td>\n",
       "      <td>0.0</td>\n",
       "      <td>0.0</td>\n",
       "      <td>0.0</td>\n",
       "      <td>0.0</td>\n",
       "      <td>0.0</td>\n",
       "      <td>0.0</td>\n",
       "      <td>0.0</td>\n",
       "      <td>0.0</td>\n",
       "    </tr>\n",
       "    <tr>\n",
       "      <th>4</th>\n",
       "      <td>0.0</td>\n",
       "      <td>0.0</td>\n",
       "      <td>0.0</td>\n",
       "      <td>0.0</td>\n",
       "      <td>0.0</td>\n",
       "      <td>0.000000</td>\n",
       "      <td>0.0</td>\n",
       "      <td>0.0</td>\n",
       "      <td>0.0</td>\n",
       "      <td>0.0</td>\n",
       "      <td>...</td>\n",
       "      <td>0.0</td>\n",
       "      <td>0.0</td>\n",
       "      <td>0.0</td>\n",
       "      <td>0.0</td>\n",
       "      <td>0.0</td>\n",
       "      <td>0.0</td>\n",
       "      <td>0.0</td>\n",
       "      <td>0.0</td>\n",
       "      <td>0.0</td>\n",
       "      <td>0.0</td>\n",
       "    </tr>\n",
       "  </tbody>\n",
       "</table>\n",
       "<p>5 rows × 8221 columns</p>\n",
       "</div>"
      ],
      "text/plain": [
       "    10   15   2004   50   ability    accord   add   airline   announce   anti  \\\n",
       "0  0.0  0.0    0.0  0.0       0.0  0.000000   0.0       0.0        0.0    0.0   \n",
       "1  0.0  0.0    0.0  0.0       0.0  0.034704   0.0       0.0        0.0    0.0   \n",
       "2  0.0  0.0    0.0  0.0       0.0  0.000000   0.0       0.0        0.0    0.0   \n",
       "3  0.0  0.0    0.0  0.0       0.0  0.000000   0.0       0.0        0.0    0.0   \n",
       "4  0.0  0.0    0.0  0.0       0.0  0.000000   0.0       0.0        0.0    0.0   \n",
       "\n",
       "   ...  £ 11.5  £ 132  £ 2,000  £ 20  £ 339  £ 4.99  £ 40  £ 5  £ 50  £ 99  \n",
       "0  ...     0.0    0.0      0.0   0.0    0.0     0.0   0.0  0.0   0.0   0.0  \n",
       "1  ...     0.0    0.0      0.0   0.0    0.0     0.0   0.0  0.0   0.0   0.0  \n",
       "2  ...     0.0    0.0      0.0   0.0    0.0     0.0   0.0  0.0   0.0   0.0  \n",
       "3  ...     0.0    0.0      0.0   0.0    0.0     0.0   0.0  0.0   0.0   0.0  \n",
       "4  ...     0.0    0.0      0.0   0.0    0.0     0.0   0.0  0.0   0.0   0.0  \n",
       "\n",
       "[5 rows x 8221 columns]"
      ]
     },
     "execution_count": 20,
     "metadata": {},
     "output_type": "execute_result"
    }
   ],
   "source": [
    "dtm.head()"
   ]
  },
  {
   "cell_type": "code",
   "execution_count": 21,
   "metadata": {},
   "outputs": [
    {
     "data": {
      "text/plain": [
       "NearestNeighbors(algorithm='kd_tree', leaf_size=30, metric='minkowski',\n",
       "         metric_params=None, n_jobs=None, n_neighbors=5, p=2, radius=1.0)"
      ]
     },
     "execution_count": 21,
     "metadata": {},
     "output_type": "execute_result"
    }
   ],
   "source": [
    "from sklearn.neighbors import NearestNeighbors\n",
    "\n",
    "# Fit on DTM\n",
    "nn = NearestNeighbors(n_neighbors=5, algorithm='kd_tree')\n",
    "nn.fit(dtm)"
   ]
  },
  {
   "cell_type": "code",
   "execution_count": 22,
   "metadata": {},
   "outputs": [
    {
     "data": {
      "text/plain": [
       "(array([[0.        , 1.22159545, 1.25756655, 1.33923424, 1.34070211]]),\n",
       " array([[  0, 332,  36, 242, 100]], dtype=int64))"
      ]
     },
     "execution_count": 22,
     "metadata": {},
     "output_type": "execute_result"
    }
   ],
   "source": [
    "nn.kneighbors([dtm.iloc[0].values])"
   ]
  },
  {
   "cell_type": "code",
   "execution_count": null,
   "metadata": {},
   "outputs": [],
   "source": [
    "# Instantiate\n",
    "from sklearn.neighbors import NearestNeighbors\n",
    "\n",
    "# Fit on TF-IDF Vectors\n",
    "nn  = NearestNeighbors(n_neighbors=5, algorithm='kd_tree')\n",
    "nn.fit(dtm)"
   ]
  },
  {
   "cell_type": "code",
   "execution_count": 23,
   "metadata": {},
   "outputs": [
    {
     "data": {
      "text/plain": [
       "(array([[0.        , 1.13810396, 1.13810396, 1.1651194 , 1.21168495]]),\n",
       " array([[356, 269, 298, 280, 367]], dtype=int64))"
      ]
     },
     "execution_count": 23,
     "metadata": {},
     "output_type": "execute_result"
    }
   ],
   "source": [
    "# Query Using kneighbors \n",
    "nn.kneighbors([dtm.iloc[356]])"
   ]
  },
  {
   "cell_type": "code",
   "execution_count": 24,
   "metadata": {},
   "outputs": [
    {
     "data": {
      "text/plain": [
       "b'Have hackers recruited your PC?\\r\\n\\r\\nMore than one million computers on the net have been hijacked to attack websites and pump out spam and viruses.\\r\\n\\r\\nThe huge number was revealed by security researche'"
      ]
     },
     "execution_count": 24,
     "metadata": {},
     "output_type": "execute_result"
    }
   ],
   "source": [
    "data[356][:200]"
   ]
  },
  {
   "cell_type": "code",
   "execution_count": 26,
   "metadata": {},
   "outputs": [
    {
     "data": {
      "text/plain": [
       "b'Intel unveils laser breakthrough\\r\\n\\r\\nIntel has said it has found a way to put a silicon-based laser on a chip, raising hopes of much faster networks.\\r\\n\\r\\nScientists at Intel have overcome a fundamental '"
      ]
     },
     "execution_count": 26,
     "metadata": {},
     "output_type": "execute_result"
    }
   ],
   "source": [
    "data[328][:200]"
   ]
  },
  {
   "cell_type": "code",
   "execution_count": 37,
   "metadata": {},
   "outputs": [],
   "source": [
    "#rndm_tech_article = [ \"\"\"\n",
    "#Unlike other computational devices that treats scalar or vectors as primitives, Google’s TPU treats matrices as primitives. The TPU is designed to perform matrix multiplication at a massive scale. If you look at the diagram above, you notice that that the device doesn’t have high bandwidth to memory. It uses DDR3 with only 30GB/s to memory. Contrast that to the a Nvidia Titan X with GDDR5X hitting transfer speeds of 480GB/s. The systolic array trades off speed for throughput. A Titan X has 3,583 CUDA cores. The CUDA cores are 32bit and are more general purpose than 8bit cores of the TPU. Apparently, Google knew likely way back in 2014 that 8bit was good enough (note: Google had deployed TPU as early as 2015).\n",
    "#Systolic arrays are heavily pipelined, given that it is 256 units wide, it takes 256 cycles from the time the first element gets into the array to the time it comes out. Twice that many cycles for everything that needs to get it, to all come out. However, at its peak, you’ll get 65k processors all cranking together. Here’s a slide that shows how a systolic array performs matrix multiplication\n",
    "#\n",
    "#\"\"\"]\n",
    "\n",
    "rndm_tech_article = [ \"\"\"Final Fantasy Online MMO RPG\"\"\"]\n"
   ]
  },
  {
   "cell_type": "code",
   "execution_count": 38,
   "metadata": {},
   "outputs": [],
   "source": [
    "# Query for Sim of Random doc to BBC\n",
    "new = tfidf.transform(rndm_tech_article)"
   ]
  },
  {
   "cell_type": "code",
   "execution_count": 39,
   "metadata": {},
   "outputs": [
    {
     "data": {
      "text/plain": [
       "<1x8221 sparse matrix of type '<class 'numpy.float64'>'\n",
       "\twith 3 stored elements in Compressed Sparse Row format>"
      ]
     },
     "execution_count": 39,
     "metadata": {},
     "output_type": "execute_result"
    }
   ],
   "source": [
    "new"
   ]
  },
  {
   "cell_type": "code",
   "execution_count": 40,
   "metadata": {},
   "outputs": [
    {
     "data": {
      "text/plain": [
       "(array([[1.32599495, 1.35014598, 1.35324291, 1.35358235, 1.35450382]]),\n",
       " array([[139, 400, 248, 190, 234]], dtype=int64))"
      ]
     },
     "execution_count": 40,
     "metadata": {},
     "output_type": "execute_result"
    }
   ],
   "source": [
    "nn.kneighbors(new.todense())"
   ]
  },
  {
   "cell_type": "code",
   "execution_count": 46,
   "metadata": {},
   "outputs": [
    {
     "data": {
      "text/plain": [
       "b'Losing yourself in online gaming\\r\\n\\r\\nOnline role playing games are time-consuming, but enthralling flights from reality. But are some people taking their fantasy lives too seriously?\\r\\n\\r\\nWhen video game World of Warcraft hit the shops in Europe last week fans wrote in to the BBC website to express their delight - and to offer a warning. \"An addiction to a game like this is far more costly in time than any substance could impair - keep track of time,\" wrote Travis Anderson, in Texas. Some of the comments were humorous: \"This game is so good I\\'m not going to get it, there\\'s no way I could limit the hours I\\'d spend playing it,\" wrote Charles MacIntyre, from England.\\r\\n\\r\\nBut some struck a more worrying tone about the Massively Multiplayer Online Role Playing Game (MMORPG): \"\\'You need to get out more\\' could be the motto of any MMORPG. Shame they are getting more popular, as you know this problem is just going to mushroom,\" wrote Stuart Stanton-Davies, in Huddersfield. Scare-mongering articles about \"addictive video games\" have existed since the days the first game of Pong stopped everyone from working at the Atari offices.\\r\\n\\r\\nGaming is like any other pastime - it can quickly become an unhealthy obsession, whether it is spending too much time in the gym, in front of the television, or reading poetry.\\r\\n\\r\\nUnfortunately, gaming and addiction is a far too easy association to make. However, stories about gamers spending 10 to 15 hours a day in front of some video games are becoming more frequent. And the impact that is having on their families is quite distressing for some.\\r\\n\\r\\nMassively multiplayer online role playing games - MMORPGs - allow thousands of gamers to share a common experience of sharing fantasy or science fiction worlds. The scope of these games - like Warcraft, EverQuest, Ultima among others - is epic, and exploration and adventure is almost infinite. Part of the \"problem\" is grinding - by which gamers have to perform long-winded, mindless tasks, to bring up their levels and gain access to more adventure. Such open-endedness brings with it a desire to keep playing; not for no reason is EverQuest (EQ) nicknamed EverCrack. E Hayot, writing in the culture blogzine Print Culture, said recently: \"I used to play the online role-playing game EverQuest a lot. \"By \\'a lot\\', I mean probably 15 to 20 hours a week on average, and on weeks where I didn\\'t have to work, as many as 30 or 40 hours.\"\\r\\n\\r\\nHe says that in the world of online gaming such behaviour \"wasn\\'t that unusual; lots of people I knew in the game played EQ that much\". \"You lie; you don\\'t go into work because you \"had stuff to do at home\"; you cancel or refuse invitations to dinner, you spend much less time watching TV (a good thing, presumably),\" he wrote, explaining how EverQuest took over his time. He quit the game, he says, because he realised life was more fun than EverQuest.\\r\\n\\r\\nLet us be clear - such obsession is rare. But the huge growth in online gaming means a growth in the numbers of people who take their passion for a hobby too far. Almost 400,000 people bought a copy of World of Warcraft in the first two days on sale earlier this month. Only a fraction will descend into obsessives. The thoughts of families and friends of gamers who have been affected by EverQuest can be found on one blog EverQuest Daily Grind. Jane, who runs the website, compiles a chronicle of heart-rending stories. \"I am actually convinced at this point that there are more than \\'some\\' people who spend more times in MMOPRGs than in reality,\" she said. One unnamed correspondent - all are anonymous - wrote: \"On the rare nights when my husband does come to bed at the same time as I do, I find that I am so used to sleeping by myself that it is difficult to get to sleep with another body laying next to me.\\r\\n\\r\\n\"I can\\'t talk to him while he is playing. There is absolutely no point as he doesn\\'t hear me or is so distracted that I get a \\'ummm... ya\\' a few minutes after I ask him a question.\"\\r\\n\\r\\n\"Gaming widows\" has become a comedic term for women who have been shut out by male gamers. But for some it is not in the least funny. Another correspondent wrote: \"I believe that he is addicted to the online gaming, and that is the cause of his depression and restlessness.\" And some of them are even sadder: \"Today our son was five days old. \"The sad truth is my husband spent 11 hours today playing his Warcraft game. He did not interact with our sweet tiny baby because there were important quests waiting online.\" Video game fans often complain that their hobby is misunderstood or marginalised. But as gaming becomes ever more mainstream, and games ever more immersive, there will be no hiding place for social problems.\\r\\n\\r\\n\\r\\n\\r\\nI wish 30-40 hours a week was unusual but I think it probably isn\\'t. An 11 hour stretch isn\\'t that surprising - I\\'ve known people to play 15+ hours at a stretch. I know of people who are spending their week\\'s holiday from work playing Warcraft. I know of people who would play Ever[Crack] in shifts...waking at 3am to take over from their friends and resume waiting for an item they \\'needed\\' to appear. I understand that the key sign of an addiction is if you alter your life around it rather than fit it into your life. By all standards many of us are addicts. So is the solution to force ourselves to stop playing..or do we just need to make real life a bit more interesting?\\r\\n\\r\\nSadly with all the talk of people becoming obsessed with gaming, I find myself longing to have the time to join them. I have been in a long term relationship for over 4 years - since that began, games have become more and more complex. And more and more so I find I have less and less time to play them, with and marriage and work being the main drag on my time.\\r\\n\\r\\nI think the line between playing a game a lot and a gaming addiction is really quite distinct. I play games a lot, definately over 20 hours a week, but I don\\'t go missing work or other commitments in order to play games.\\r\\n\\r\\nI have, about a year ago, deleted every game on my computer. RPGs are the worst - the real world fades and all your worries sorround a new magic staff or mighty sword. Unlike books, or perhaps even TV, you gain absolutely nothing. When you stop playing you\\'re at the same point as when you started; all the achievements of your 10 hour session are irretrievably locked in the game and, since you\\'ve gained nothing in the real world, you may as well pile on more achievement in the fake one.\\r\\n\\r\\nDespite having little monetary value, the \"rewards\" and encouragement offered by these MMORPGs is enough to hook games for hours daily. If only business could learn to leverage that very simply human need for easily measurable progress and recognition. Perhaps the unhealthily obsessed simply need more recognition for their achievements in reality?\\r\\n\\r\\nMy advice to gaming widows is \"if you can\\'t beat \\'em, join \\'em\". That is, try playing it yourself. If he wants to play as well, well at least you\\'ll be together somewhere...\\r\\n\\r\\nI was an addict and it cost me my relationship. I still play now, but without the guilt , hehe, How long have i played in one sitting? From morning till the early hours of the next day, the birds were singing out side and i had to hobble to the bath room cos my bladder was so full i was in pain, i would hardly eat, perhaps some toast, smoke endlessly and drink. Now, thankfully the fascination has worn off and I have a girlfriend but still no job. For the most part online gaming give me an adiction to illusory achievement, and as there is no end in sight you keep going for the mirage of the ultimate.\\r\\n\\r\\nObsessive behaviour is, of course, always cause for concern, but it always bothers me when articles about gaming talk in terms of \"reality\". Obviously, somebody who spends thirty hours a week playing EverQuest has a problem. This problem, however, has nothing to do with a dysfunctional sense of reality. An obsessive EQ player does not consider the game to be \"real\" any more than - for example - an obsessive automotive tinkerer considers their car to be human. If MMORPGs have a unique danger, in terms of encouraging obsessive behaviour, it is not that they create an absorbing virtual world, but rather that they can be easily accessed 24/7. The problem here does not lie with the nature of gaming, but with the nature of modern 24 hour culture.\\r\\n\\r\\nThe problem with these so called MMORPGS is that you can never really complete them, there\\'s always another quest to do. A few of my friends have only had about 10 hours sleep since it was released friday...\\r\\n\\r\\nChampionship Manager consumed my life for years. One particular session started at about 2pm on a Sunday, paused for a brief sleep at 5am on the Monday and after visit to University for classes restarted at about midday for another 10 hour session. The people who tend to hark on about about the problems of \"hardcore gaming\" seem to be those who have rarely allowed themselves to become immersed in a game. I would expect their perspective to change if they were to do that.\\r\\n\\r\\nI used to be an EverQuest addict while I was in college. It came to the point where the gaming world felt more real than the real one. I failed alot of my courses and was able to barely graduate. I was lucky that I came to my senses when I did, others were less fortunate and dropped out of college. Now that I am holding a job, I avoid online RPGS like the plague.\\r\\n\\r\\nWhen I was made redundant I told my partner I had a new job for three months whilst every day I played EverQuest from 7:30am till 5:pm. When She came home I pretended I had just got in as well, hence justifying playing it all evening. I have since quit playing MMORPG and have a good job.\\r\\n\\r\\nWhen I got to the point where I was eating my dinner in front of the PC I realised things were getting silly so I\\'m trying not to spend so much time on there. It\\'s not easy. I feel as if I\\'ve got a real addiction going on here.\\r\\n\\r\\nFor me the problem is that I love to complete a goal. Once it is completed that is it, I am finished, time to move on. I become obsessed to complete the goal, so from that standpoint it is an addiction. In a game where you will never complete an \"ultimate\" goal, well it would be like falling into a black pit. It is easier to escape into a controlled fantasy world than face reality at times - in other words the goal offered in the PC game are \"easier\" and more fun than the real world. Pretty scary implications if you think about it.\\r\\n\\r\\nI can\\'t buy World of Warcraft as it would destroy my marrage, I just know it!!\\r\\n\\r\\nI played Star Wars Galaxies for about a year and can attest to the addictiveness of these games. They are all engineered in such a way that early on in the game you progress quickly, but this progress becomes exponentially slower, requiring more and more time to reach the next level. I\\'m sad to say that at the peak of my addiction I was spending entire weekends in front of my monitor, slowly building up my character, stopping only for food and toilet breaks. Thankfully I made a clean break, and actually managed to sell my Jedi account for \\xc2\\xa3800 - which is my only sanity check in an otherwise completely unproductive time vacuum.\\r\\n\\r\\nSeven years ago, I began playing Ultima Online. This game dominated 2 years of my life. They were 2 wonderful years and I still have vivid memories of the experiences and friends I had. Online gaming can be a world of escapism where you can be yourself without fear of the thoughts of others. Something that cannot always be achieved in the day to day running of a normal life. Whilst I would warn against people giving to much of there life to these games, I believe they are a better way to spend your time than say watching TV.\\r\\n\\r\\nGaming is addictive and should be made a recognised addiction. When I was single I used to play upto eight hours a night after work every night for about a year, building up my stats, completing evermore quests and battling ogres. But somehow I found time to get out, even met someone and got married! Has my life changed? Hell no! I still cast spells and battle till the early hours of the morning. On with the fun!\\r\\n\\r\\nOnline gaming should be enjoyed just as much as you would enjoy watching television, or going to the cinema or the pub with your mates.\\r\\n\\r\\nMany people use recreational drugs on an occasional basis and are able to lead succesfull lives with families, relationships and good careers. A minority allow drugs to take over and destroy their lives and become addicted. According to this article the same is true of MMORPGs. The message to the government is clear, either legalise drugs, or outlaw online gaming!!\\r\\n\\r\\nSounds like there are some sad stories here - and I can believe them all. I play alot of Warcraft myself, and know full well how addictive it is. I am resolute that it will not take over my life. It certainly gets in the way though. I think that some people simply do not know how to draw this line, or lack the willpower to stop themselves stepping over it.\\r\\n\\r\\nI think I\\'m obsessed with gaming in general, I spend far too much time playing games like Everquest 2 and Football Manager rather than going out and interacting with real people and when I do try to, I\\'m always thinking in the back if my mind that I\\'d rather be in front of the computer winning the league with Cambridge United.\\r\\n\\r\\nI am obsessed with online role playing games. It\\'s not so much quests but it has the adrenaline of a real life situation - goals to achieve etc. I spend about five hours per day online playing it and I rarely get more than four to five hours sleep before getting up for work the next morning...\\r\\n\\r\\nAs many of the players spend their time in MMORPGs rather than in front of the TV I fail to see how it will affect players social lives negatively. Furthermore these types of games contain a huge social aspect, whereas other games and some other pursuits (such as being a couch potato) the players could be indulging in are solitary by nature.\\r\\n\\r\\nThese games are like most things -- too much of anything is a bad thing, but as long as you can walk away from the computer to do other things too, they can be great fun.\\r\\n\\r\\nLiving in Korea at the moment, they have lots PC Bangs (Internet Cafes). Nearly most of South Koreans are addicted to online games, and one Korean died because of the lack of food and water he had through playing online games.\\r\\n\\r\\nI play xbox live every day. I find my self lying and rescheduling everything around my gaming fix. The longest I played was a 24 hour straight session. I know I play for to long but it\\'s an obsession that I can\\'t control. Can you reccomend a counsellor - this is not a wind up... but something I\\'m increasingly concerned with...\\r\\n\\r\\nMe and my mate play online for an hour or two a day, we\\'re both aware of how much time can disappear by sitting in front of a TV, trying to \\'frag\\' some individual. It\\'s getting the balance between getting home and relasing the stress of a day by an hour or so gaming, and enjoying \\'real\\' life...\\r\\n\\r\\nI bought the US version of World of Warcraft when it came out. The longest period I played was 23 hrs straight. I gave up the game after a month because it was so addictive, but have subsequently just bought the European version (couldn\\'t help myself). In future, I\\'m going to regulate my time far more strictly. Great game!\\r\\n\\r\\nHaving played MMORPG games for some years I agree that these type of games can be life sucking. But my concern is for the younger generation of gamers that play for hours on end in an adult enviroment. Most MMORPG games you need a credit card to play but I dont think parents know just what they are letting there children into.\\r\\n\\r\\nUnless there is undeniable medical proof that staring at a computer screens for hours at a time can damage a person&#191;s health, you can expect this not to decline but to get worse.\\r\\n\\r\\nThese people are pathetic. They need to get off their machines and notice that our world is being swiftly overcome by issues and troubles that make the trifling worries of and \"online universe\" absolutely meaningless.\\r\\n\\r\\n24hours, when i was a kid at school and i was on half term, Ultima Online was the game, ahhhh them was the days ! LOL\\r\\n'"
      ]
     },
     "execution_count": 46,
     "metadata": {},
     "output_type": "execute_result"
    }
   ],
   "source": [
    "# Inspect Most relevant result\n",
    "data[400]"
   ]
  },
  {
   "cell_type": "markdown",
   "metadata": {},
   "source": [
    "## Challenge\n",
    "\n",
    "In the module project assignment, you will apply one of these search techniques to retrieve documents related to a query document. "
   ]
  },
  {
   "cell_type": "markdown",
   "metadata": {},
   "source": [
    "# Apply word embedding models to create document vectors (Learn)\n",
    "<a id=\"p3\"></a>"
   ]
  },
  {
   "cell_type": "markdown",
   "metadata": {},
   "source": [
    "## Overview\n",
    "### BoW discards textual context\n",
    "\n",
    "One of the limitations of Bag-of-Words approaches is that any information about the textual context surrounding that word is lost. This also means that with bag-of-words approaches often the only tools that we have for identifying words with similar usage or meaning and subsequently consolidating them into a single vector is through the processes of stemming and lemmatization which tend to be quite limited at consolidating words unless the two words are very close in their spelling or in their root parts-of-speech.\n",
    "\n",
    "### Embedding approaches preserve more textual context\n",
    "Word2Vec is an increasingly popular word embedding technique. Like Bag-of-words it learns a real-value vector representation for a predefined fixed-size vocabulary that is generated from a corpus of text. However, in contrast to BoW, Word2Vec approaches are much more capable of accounting for textual context, and are better at discovering words with similar meanings or usages (semantic or syntactic similarity).\n",
    "\n",
    "### Word2Vec Intuition\n",
    "### The Distribution Hypothesis\n",
    "\n",
    "In order to understand how Word2Vec preserves textual context we have to understand what's called the Distribution Hypothesis (Reference: Distribution Hypothesis Theory  -https://en.wikipedia.org/wiki/Distributional_semantics. The Distribution Hypothesis operates under the assumption that words that have similar contexts will have similar meanings. Practically speaking, this means that if two words are found to have similar words both to the right and to the left of them throughout the corpora then those words have the same context and are assumed to have the same meaning. \n",
    "\n",
    "> \"You shall know a word by the company it keeps\" - John Firth\n",
    "\n",
    "This means that we let the usage of a word define its meaning and its \"similarity\" to other words. In the following example, which words would you say have a similar meaning? \n",
    "\n",
    "**Sentence 1**: Traffic was light today\n",
    "\n",
    "**Sentence 2**: Traffic was heavy yesterday\n",
    "\n",
    "**Sentence 3**: Prediction is that traffic will be smooth-flowing tomorrow since it is a national holiday\n",
    "\n",
    "What words in the above sentences seem to have a similar meaning if all you knew about them was the context in which they appeared above? \n",
    "\n",
    "Lets take a look at how this might work in action, the following example is simplified, but will give you an idea of the intuition for how this works.\n",
    "\n",
    "#### Corpora:\n",
    "\n",
    "1) \"It was the sunniest of days.\"\n",
    "\n",
    "2) \"It was the raniest of days.\"\n",
    "\n",
    "#### Vocabulary:\n",
    "\n",
    "{\"it\": 1, \"was\": 2, \"the\": 3, \"of\": 4, \"days\": 5, \"sunniest\": 6, \"raniest\": 7}\n",
    "\n",
    "### Vectorization\n",
    "\n",
    "|       doc   | START_was | it_the | was_sunniest | the_of | sunniest_days | of_it | days_was | it_the | was_raniest | raniest_days | of_END |\n",
    "|----------|-----------|--------|--------------|--------|---------------|-------|----------|--------|-------------|--------------|--------|\n",
    "| it       | 1         | 0      | 0            | 0      | 0             | 0     | 1        | 0      | 0           | 0            | 0      |\n",
    "| was      | 0         | 1      | 0            | 0      | 0             | 0     | 0        | 1      | 0           | 0            | 0      |\n",
    "| the      | 0         | 0      | 1            | 0      | 0             | 0     | 0        | 0      | 1           | 0            | 0      |\n",
    "| sunniest | 0         | 0      | 0            | 1      | 0             | 0     | 0        | 0      | 0           | 0            | 0      |\n",
    "| of       | 0         | 0      | 0            | 0      | 1             | 0     | 0        | 0      | 0           | 1            | 0      |\n",
    "| days     | 0         | 0      | 0            | 0      | 0             | 0     | 0        | 0      | 0           | 0            | 1      |\n",
    "| raniest  | 0         | 0      | 0            | 1      | 0             | 0     | 0        | 0      | 0           | 0            | 0      |\n",
    "\n",
    "Each column vector represents the word's context -in this case defined by the words to the left and right of the center word. How far we look to the left and right of a given word is referred to as our \"window of context.\" Each row vector represents the the different usages of a given word. Word2Vec can consider a larger context than only words that are immediately to the left and right of a given word, but we're going to keep our window of context small for this example. What's most important is that this vectorization has translated our documents from a text representation to a numeric one in a way that preserves information about the underlying context. \n",
    "\n",
    "We can see that words that have a similar context will have similar row-vector representations, but before looking that more in-depth, lets simplify our vectorization slightly. You'll notice that we're repeating the column-vector \"it_the\" twice. Lets combine those into a single vector by adding them element-wise. \n",
    "\n",
    "|       *   | START_was | it_the | was_sunniest | the_of | sunniest_days | of_it | days_was | was_raniest | raniest_days | of_END |\n",
    "|----------|-----------|--------|--------------|--------|---------------|-------|----------|-------------|--------------|--------|\n",
    "| it       | 1         | 0      | 0            | 0      | 0             | 0     | 1        | 0           | 0            | 0      |\n",
    "| was      | 0         | 2      | 0            | 0      | 0             | 0     | 0        | 0           | 0            | 0      |\n",
    "| the      | 0         | 0      | 1            | 0      | 0             | 0     | 0        | 1           | 0            | 0      |\n",
    "| sunniest | 0         | 0      | 0            | 1      | 0             | 0     | 0        | 0           | 0            | 0      |\n",
    "| of       | 0         | 0      | 0            | 0      | 1             | 0     | 0        | 0           | 1            | 0      |\n",
    "| days     | 0         | 0      | 0            | 0      | 0             | 0     | 0        | 0           | 0            | 1      |\n",
    "| raniest  | 0         | 0      | 0            | 1      | 0             | 0     | 0        | 0           | 0            | 0      |\n",
    "\n",
    "Now, can you spot which words have a similar row-vector representation? Hint: Look for values that are repeated in a given column. Each column represents the context that word was found in. If there are multiple words that share a context then those words are understood to have a closer meaning with each other than with other words in the text.\n",
    "\n",
    "Lets look specifically at the words sunniest and raniest. You'll notice that these two words have exactly the same 10-dimensional vector representation. Based on this very small corpora of text we would conclude that these two words have the same meaning because they share the same usage. Is this a good assumption? Well, they are both referring to the weather outside so that's better than nothing. You could imagine that as our corpora grows larger we will be exposed a greater number of contexts and the Distribution Hypothesis assumption will improve. \n",
    "\n",
    "### Word2Vec Variants\n",
    "\n",
    "#### Skip-Gram\n",
    "\n",
    "The Skip-Gram method predicts the neighbors’ of a word given a center word. In the skip-gram model, we take a center word and a window of context (neighbors) words to train the model and then predict context words out to some window size for each center word.\n",
    "\n",
    "This notion of “context” or “neighboring” words is best described by considering a center word and a window of words around it. \n",
    "\n",
    "For example, if we consider the sentence **“The speedy Porsche drove past the elegant Rolls-Royce”** and a window size of 2, we’d have the following pairs for the skip-gram model:\n",
    "\n",
    "**Text:**\n",
    "**The**\tspeedy\tPorsche\tdrove\tpast\tthe\telegant\tRolls-Royce\n",
    "\n",
    "*Training Sample with window of 2*: (the, speedy), (the, Porsche)\n",
    "\n",
    "**Text:**\n",
    "The\t**speedy**\tPorsche\tdrove\tpast\tthe\telegant\tRolls-Royce\n",
    "\n",
    "*Training Sample with window of 2*: (speedy, the), (speedy, Porsche), (speedy, drove)\n",
    "\n",
    "**Text:**\n",
    "The\tspeedy\t**Porsche**\tdrove\tpast\tthe\telegant\tRolls-Royce\n",
    "\n",
    "*Training Sample with window of 2*: (Porsche, the), (Porsche, speedy), (Porsche, drove), (Porsche, past)\n",
    "\n",
    "**Text:**\n",
    "The\tspeedy\tPorsche\t**drove**\tpast\tthe\telegant\tRolls-Royce\n",
    "\n",
    "*Training Sample with window of 2*: (drove, speedy), (drove, Porsche), (drove, past), (drove, the)\n",
    "\n",
    "The **Skip-gram model** is going to output a probability distribution i.e. the probability of a word appearing in context given a center word and we are going to select the vector representation that maximizes the probability.\n",
    "\n",
    "With CountVectorizer and TF-IDF the best we could do for context was to look at common bi-grams and tri-grams (n-grams). Well, skip-grams go far beyond that and give our model much stronger contextual information.\n",
    "\n",
    "![alt text](https://www.dropbox.com/s/c7mwy6dk9k99bgh/Image%202%20-%20SkipGrams.jpg?raw=1)\n",
    "\n",
    "## Continuous Bag of Words\n",
    "\n",
    "This model takes thes opposite approach from the skip-gram model in that it tries to predict a center word based on the neighboring words. In the case of the CBOW model, we input the context words within the window (such as “the”, “Proshe”, “drove”) and aim to predict the target or center word “speedy” (the input to the prediction pipeline is reversed as compared to the SkipGram model).\n",
    "\n",
    "A graphical depiction of the input to output prediction pipeline for both variants of the Word2vec model is attached. The graphical depiction will help crystallize the difference between SkipGrams and Continuous Bag of Words.\n",
    "\n",
    "![alt text](https://www.dropbox.com/s/k3ddmbtd52wq2li/Image%203%20-%20CBOW%20Model.jpg?raw=1)\n",
    "\n",
    "## Notable Differences between Word Embedding methods:\n",
    "\n",
    "1) W2V focuses less document topic-modeling. You'll notice that the vectorizations don't really retain much information about the original document that the information came from. At least not in our examples.\n",
    "\n",
    "2) W2V can result in really large and complex vectorizations. In fact, you need Deep Neural Networks to train your Word2Vec models from scratch, but we can use helpful pretrained embeddings (thank you Google) to do really cool things!\n",
    "\n",
    "*^ All that noise....AND Spacy has pretrained a Word2Vec model you can just use? WTF JC?*\n",
    "\n",
    "Let's take a look at how to do it. "
   ]
  },
  {
   "cell_type": "code",
   "execution_count": 47,
   "metadata": {},
   "outputs": [
    {
     "name": "stdout",
     "output_type": "stream",
     "text": [
      "[ 2.07984239e-01 -2.60890484e-01 -1.15457252e-01 -1.96443751e-01\n",
      " -2.83249468e-03  3.55849974e-02 -2.05170006e-01 -2.27374747e-01\n",
      "  8.56052488e-02  1.36894751e+00 -5.74124977e-02  8.06210041e-02\n",
      "  2.37275064e-02  1.17454052e-01 -6.53099641e-03 -1.24400005e-01\n",
      "  1.99086756e-01  6.37722552e-01  1.52916998e-01 -2.33504996e-01\n",
      " -2.40909994e-01 -7.11500049e-02 -9.10753161e-02  7.16734976e-02\n",
      "  1.16262749e-01 -3.91372502e-01  1.13048747e-01 -2.11327493e-01\n",
      "  1.09019078e-01 -2.44885415e-01  3.00577488e-02  4.77855802e-02\n",
      "  7.37800002e-02  2.57142037e-01  2.62586236e-01 -1.66897491e-01\n",
      "  1.87596500e-01 -1.23680010e-02 -1.76299751e-01  1.11685000e-01\n",
      "  1.82024967e-02  9.86500084e-03 -3.58770013e-01 -2.23265499e-01\n",
      " -4.37720008e-02  3.63999486e-01  7.42954984e-02  1.21225506e-01\n",
      "  1.37013003e-01 -5.50666526e-02  2.66017504e-02  8.87180045e-02\n",
      " -1.14092499e-01 -2.02865750e-01  3.63092512e-01 -3.08394760e-01\n",
      "  1.13859497e-01  3.13650146e-02  2.62076259e-01  1.90399922e-02\n",
      "  7.24634901e-02  2.79004984e-02  8.65525007e-02  6.92452565e-02\n",
      " -9.77424979e-02 -1.47966757e-01  2.32025003e-03  1.62278250e-01\n",
      "  1.59857497e-02  3.52048993e-01 -5.51802553e-02  2.13179991e-01\n",
      "  3.63152504e-01  1.01501703e-01  1.73463732e-01  9.20909941e-02\n",
      "  1.27134249e-01  1.00527555e-02  2.44570002e-01 -6.89124968e-03\n",
      "  6.30075037e-02  1.31706819e-01 -1.36811763e-01 -3.73892523e-02\n",
      " -1.71941705e-02 -1.47585243e-01  2.69147515e-01  1.97296605e-01\n",
      " -1.14209257e-01  7.49210045e-02  1.12407543e-02  6.53382465e-02\n",
      "  7.39065409e-02 -1.47568747e-01 -9.98437554e-02  2.56100774e-01\n",
      "  3.41899954e-02 -1.95817441e-01  1.52259752e-01 -2.98299998e-01\n",
      "  3.71480025e-02  1.38142243e-01 -3.84989977e-02 -2.02540010e-02\n",
      "  2.38000415e-03 -8.94232512e-01  1.20125249e-01 -1.48699433e-03\n",
      "  3.07812482e-01  1.31904989e-01  2.28665009e-01 -4.28467512e-01\n",
      " -1.50100499e-01 -3.99947166e-05  7.09750131e-03 -9.08460468e-02\n",
      "  1.15139998e-01  2.73323029e-01  6.97097555e-02  1.37960017e-01\n",
      " -7.76264742e-02 -3.58945057e-02  1.47073746e-01 -2.70538747e-01\n",
      " -4.16769907e-02 -2.20907256e-01  1.29162997e-01  5.66806756e-02\n",
      " -2.10923001e-01 -1.12912245e-01 -1.24349967e-02  2.90902629e-02\n",
      " -9.14399922e-02  1.48545001e-02  1.73015013e-01  2.45295018e-01\n",
      "  2.36412495e-01  1.51691005e-01 -6.30199909e-02  2.67812014e-01\n",
      " -1.31286001e+00 -7.58474991e-02  1.29823506e-01 -1.51231751e-01\n",
      " -8.19625035e-02  1.39788002e-01 -1.48047015e-01  6.38692454e-02\n",
      "  2.33854756e-01 -9.88075137e-03  1.93658501e-01  2.27525085e-03\n",
      "  4.02045511e-02 -4.90897447e-02 -3.33292484e-01 -2.25562245e-01\n",
      " -2.13249400e-03 -1.25110000e-01 -2.07584769e-01 -8.20675045e-02\n",
      " -3.08577478e-01  2.42340490e-01  1.01082012e-01  1.69142485e-02\n",
      " -2.96225518e-01 -2.39765748e-01 -2.06788242e-01 -2.19947502e-01\n",
      "  1.32491991e-01  2.83937510e-02 -2.12792531e-02  2.11183250e-01\n",
      "  7.47520030e-02  5.15667535e-02 -2.79584527e-01  5.96700013e-02\n",
      " -1.40897244e-01 -7.72149861e-03  9.76998210e-02 -2.29924992e-01\n",
      " -3.91512439e-02 -2.62144983e-01 -9.46324915e-02 -1.49488509e-01\n",
      " -4.47402522e-02  4.87175062e-02 -1.00491997e-02 -1.57508999e-01\n",
      "  1.83425248e-01 -7.38234967e-02 -5.53542078e-02  3.62554997e-01\n",
      "  6.00774996e-02 -3.51069048e-02 -2.12482512e-02 -5.44437282e-02\n",
      "  5.77000529e-03 -4.17417213e-02 -2.30720505e-01  3.05450335e-03\n",
      " -2.60736495e-01  9.90725309e-03  1.44257501e-01  1.58988327e-01\n",
      "  3.12480003e-01 -4.21992540e-02  1.47941500e-01 -2.60480493e-03\n",
      " -1.18254803e-01  3.76944989e-02  8.56549889e-02  2.98762500e-01\n",
      " -1.82907507e-01 -5.01237512e-01 -3.22812736e-01 -1.04721501e-01\n",
      " -2.11069018e-01 -1.58998221e-01 -1.63172990e-01 -1.53411508e-01\n",
      " -4.72389996e-01 -2.52688266e-02  6.80677444e-02 -3.47925007e-01\n",
      "  1.00139998e-01  3.17759998e-02 -2.02882513e-02  2.72649899e-02\n",
      "  2.80047543e-02  6.36423454e-02 -2.32529998e-01  1.78696245e-01\n",
      " -4.16299030e-02 -6.78092465e-02 -1.87866479e-01 -3.47625017e-01\n",
      "  5.43992445e-02 -1.05034754e-01  3.68332490e-02  2.01451257e-01\n",
      " -2.68060744e-01 -7.03077465e-02 -3.46807480e-01  1.18331507e-01\n",
      "  3.82332467e-02 -1.15444995e-01 -9.92614999e-02 -4.42850590e-03\n",
      " -3.42225015e-01  3.17104995e-01 -1.48628756e-01 -6.13242462e-02\n",
      " -8.43070000e-02  1.16139993e-01  1.61483496e-01  1.70949996e-01\n",
      "  1.95979327e-01  2.56112486e-01 -2.15889998e-02 -2.78974995e-02\n",
      "  2.59169757e-01  1.79182500e-01 -2.46662006e-01  1.68815508e-01\n",
      " -3.45774740e-03  2.30412483e-01 -1.22785002e-01  2.36632437e-01\n",
      " -4.52876002e-01 -3.92082512e-01 -2.01881751e-01 -1.27992496e-01\n",
      "  2.75517516e-02  5.54060042e-02 -3.12609941e-01  1.01338752e-01\n",
      "  1.83728248e-01  4.08405006e-01  1.23905048e-01  4.37955022e-01\n",
      "  2.54640013e-01 -6.01055101e-02 -2.90097505e-01  7.99837485e-02\n",
      "  6.81065023e-02  6.80774972e-02  1.45408496e-01 -1.65033251e-01\n",
      " -6.48526996e-02 -1.71237499e-01 -5.75472489e-02 -4.43175063e-03\n",
      "  2.72267759e-01 -2.11504504e-01 -2.87027508e-01  3.25110495e-01\n",
      " -4.72727492e-02 -3.86672527e-01  2.08224997e-01  1.24032997e-01]\n"
     ]
    }
   ],
   "source": [
    "# Process a text\n",
    "doc = nlp(\"Two bananas in pyjamas\")\n",
    "\n",
    "# Get the vector for the token \"bananas\"\n",
    "bananas_vector = doc.vector\n",
    "print(bananas_vector)"
   ]
  },
  {
   "cell_type": "code",
   "execution_count": 48,
   "metadata": {},
   "outputs": [
    {
     "data": {
      "text/plain": [
       "300"
      ]
     },
     "execution_count": 48,
     "metadata": {},
     "output_type": "execute_result"
    }
   ],
   "source": [
    "len(bananas_vector)"
   ]
  },
  {
   "cell_type": "code",
   "execution_count": 49,
   "metadata": {},
   "outputs": [
    {
     "name": "stdout",
     "output_type": "stream",
     "text": [
      "0.6325915361602994\n"
     ]
    }
   ],
   "source": [
    "doc1 = nlp(\"It's a warm summer day\")\n",
    "doc2 = nlp(\"I like dogs.\")\n",
    "\n",
    "# Get the similarity of doc1 and doc2\n",
    "similarity = doc1.similarity(doc2)\n",
    "print(similarity)"
   ]
  },
  {
   "cell_type": "code",
   "execution_count": 50,
   "metadata": {},
   "outputs": [
    {
     "data": {
      "text/plain": [
       "array([[ 5.15021219, -1.02589405],\n",
       "       [ 4.68847306, -0.32752874],\n",
       "       [ 4.18183622, -1.25490821],\n",
       "       [ 2.3045236 , -0.62841121],\n",
       "       [-1.6975279 , -1.26790577],\n",
       "       [-2.19008419,  0.0674359 ],\n",
       "       [-2.41987038, -1.23168885],\n",
       "       [-2.4303113 , -2.84156896],\n",
       "       [-1.9405539 , -2.55571106],\n",
       "       [-2.16312982, -2.6337209 ],\n",
       "       [ 0.66759362,  0.42236702],\n",
       "       [-0.36687779,  4.15296085],\n",
       "       [-1.89448123,  1.39241361],\n",
       "       [-1.44081158,  2.52885279],\n",
       "       [-0.87134078,  2.86535252],\n",
       "       [ 0.42235018,  2.33795505]])"
      ]
     },
     "execution_count": 50,
     "metadata": {},
     "output_type": "execute_result"
    }
   ],
   "source": [
    "# import the PCA module from sklearn\n",
    "from sklearn.decomposition import PCA\n",
    "\n",
    "def get_word_vectors(words):\n",
    "    # converts a list of words into their word vectors\n",
    "    return [nlp(word).vector for word in words]\n",
    "\n",
    "words = ['car', 'truck', 'suv', 'race', 'elves', 'dragon', 'sword', 'king', 'queen', 'prince', 'horse', 'fish' , 'lion', 'tiger', 'lynx', 'potato']\n",
    "\n",
    "# intialise pca model and tell it to project data down onto 2 dimensions\n",
    "pca = PCA(n_components=2)\n",
    "\n",
    "# fit the pca model to our 300D data, this will work out which is the best \n",
    "# way to project the data down that will best maintain the relative distances \n",
    "# between data points. It will store these intructioons on how to transform the data.\n",
    "pca.fit(get_word_vectors(words))\n",
    "\n",
    "# Tell our (fitted) pca model to transform our 300D data down onto 2D using the \n",
    "# instructions it learnt during the fit phase.\n",
    "word_vecs_2d = pca.transform(get_word_vectors(words))\n",
    "\n",
    "# let's look at our new 2D word vectors\n",
    "word_vecs_2d"
   ]
  },
  {
   "cell_type": "code",
   "execution_count": 51,
   "metadata": {},
   "outputs": [
    {
     "data": {
      "image/png": "[encoded data removed]",
      "text/plain": [
       "<Figure size 1440x1080 with 1 Axes>"
      ]
     },
     "metadata": {
      "needs_background": "light"
     },
     "output_type": "display_data"
    }
   ],
   "source": [
    "# create a nice big plot \n",
    "plt.figure(figsize=(20,15))\n",
    "\n",
    "# plot the scatter plot of where the words will be\n",
    "plt.scatter(word_vecs_2d[:,0], word_vecs_2d[:,1])\n",
    "\n",
    "# for each word and coordinate pair: draw the text on the plot\n",
    "for word, coord in zip(words, word_vecs_2d):\n",
    "    x, y = coord\n",
    "    plt.text(x, y, word, size= 15)\n",
    "\n",
    "# show the plot\n",
    "plt.show()"
   ]
  },
  {
   "cell_type": "markdown",
   "metadata": {},
   "source": [
    "## Follow Along\n",
    "### Extract Document Vectors\n",
    "\n",
    "Let's see how much the quality of our query will work when we try a new embedding model.\n",
    "\n",
    "Steps:\n",
    "* Extract Vectors from Each Document\n",
    "* Search using KNN\n"
   ]
  },
  {
   "cell_type": "code",
   "execution_count": 52,
   "metadata": {},
   "outputs": [],
   "source": [
    "X = [nlp(str(d)).vector for d in data]"
   ]
  },
  {
   "cell_type": "code",
   "execution_count": 53,
   "metadata": {},
   "outputs": [
    {
     "data": {
      "text/plain": [
       "array([-4.05077823e-02,  1.18313171e-01, -5.92749082e-02, -1.85505804e-02,\n",
       "        2.88066268e-02, -1.23880990e-02, -4.58982252e-02, -1.23586773e-03,\n",
       "       -1.00940056e-02,  2.10798597e+00, -1.61969930e-01,  6.40723156e-03,\n",
       "        6.60949945e-02, -9.94137302e-02, -1.12885766e-01, -5.72037362e-02,\n",
       "       -6.39817268e-02,  1.11242783e+00, -1.69545203e-01, -2.71144304e-02,\n",
       "        2.86653917e-03, -2.35097986e-02, -4.92211431e-02, -7.26525765e-03,\n",
       "        8.50614309e-02, -9.84682143e-03, -9.80753824e-02, -1.01147071e-02,\n",
       "       -1.73779614e-02, -3.22712818e-03,  1.54447816e-02,  8.60540569e-02,\n",
       "       -7.19191432e-02,  1.73446108e-02,  7.90948421e-02, -4.68259305e-02,\n",
       "       -1.48716513e-02, -7.51157291e-03,  4.44667740e-03, -8.40901583e-02,\n",
       "        1.87833682e-02,  1.55040294e-01,  1.10953371e-03, -5.11239581e-02,\n",
       "        2.19496209e-02, -5.71536692e-03, -9.13870484e-02,  1.06495507e-02,\n",
       "        1.93693407e-03, -3.36025022e-02, -3.50675434e-02,  5.78186214e-02,\n",
       "       -6.13211505e-02,  1.10628186e-02,  4.20773774e-02, -3.23998407e-02,\n",
       "        7.15627288e-03, -4.67306897e-02, -1.05407769e-02, -8.13683867e-02,\n",
       "       -3.28510515e-02,  1.04756998e-02, -4.64059114e-02,  1.43869266e-01,\n",
       "        3.04655433e-02, -1.05226990e-02, -5.75669073e-02,  2.07875501e-02,\n",
       "        9.39209107e-03,  7.88131282e-02,  6.79171383e-02,  2.90062316e-02,\n",
       "        7.82333314e-02, -2.18603909e-02,  5.53633645e-02,  6.27736980e-03,\n",
       "        1.16976798e-02, -6.57251477e-02, -6.39627548e-03,  1.14728175e-01,\n",
       "       -2.86758300e-02,  7.09451884e-02, -1.27334163e-01, -1.02151195e-02,\n",
       "        3.99839282e-02, -2.01923490e-01, -1.28064007e-01, -1.52443275e-02,\n",
       "        1.81869894e-01,  5.81577830e-02, -5.85340038e-02,  1.00914873e-02,\n",
       "        3.56678888e-02,  6.80580363e-02,  9.15649608e-02, -3.80566604e-02,\n",
       "       -2.91359462e-02, -1.93777401e-02, -1.67664830e-02, -8.63422081e-02,\n",
       "        2.29853801e-02,  2.03451812e-02, -1.09895073e-01, -3.01399827e-02,\n",
       "        6.97600022e-02, -8.55970502e-01,  1.70204062e-02,  5.24345301e-02,\n",
       "        2.05193311e-02,  8.52087978e-03, -2.77449191e-02, -5.78528643e-02,\n",
       "        1.92878507e-02, -1.07111223e-01, -6.15539178e-02, -4.87068966e-02,\n",
       "       -4.64789234e-02,  4.45058309e-02, -5.65708950e-02, -9.20264982e-04,\n",
       "        3.73270875e-03,  2.17789952e-02, -1.83083583e-02,  2.46579889e-02,\n",
       "       -7.95238316e-02,  5.97543605e-02,  3.73072773e-02, -3.29731628e-02,\n",
       "        1.15043093e-02,  6.42525079e-03, -4.24799621e-02, -3.38659324e-02,\n",
       "       -5.74207380e-02, -3.17014963e-03,  2.10480597e-02,  3.15864272e-02,\n",
       "       -1.66559573e-02,  5.38607836e-02,  4.84307334e-02, -2.50931792e-02,\n",
       "       -8.33180308e-01,  7.40871504e-02,  1.28935277e-01,  4.73804725e-03,\n",
       "        5.87836877e-02, -3.45427953e-02, -1.60851292e-02,  3.20123136e-02,\n",
       "        6.06016330e-02,  1.22746849e-03, -3.26825306e-02, -3.72349424e-03,\n",
       "        9.49565545e-02,  9.75340139e-04, -7.61449859e-02,  4.25560810e-02,\n",
       "       -7.53569603e-02,  3.34245972e-02, -8.57862234e-02, -2.44322047e-02,\n",
       "        2.38766908e-04,  2.74808910e-02, -2.30397899e-02,  3.20407301e-02,\n",
       "       -1.15417741e-01, -1.54518694e-01,  4.67251241e-02, -7.72740543e-02,\n",
       "        1.37256518e-01, -2.04728777e-03,  4.07544561e-02,  2.30846852e-02,\n",
       "        4.41549718e-02, -2.44972147e-02, -5.83315045e-02,  6.37629479e-02,\n",
       "       -1.33204004e-02, -1.85146891e-02,  7.26431608e-02, -5.13913184e-02,\n",
       "       -4.41092253e-02, -2.98284516e-02, -1.10511974e-01, -1.33036107e-01,\n",
       "       -2.13531428e-03,  3.99945723e-03, -1.41502172e-02, -1.80561002e-02,\n",
       "        6.65481202e-03, -3.42307799e-02, -3.99727896e-02, -2.43572127e-02,\n",
       "       -4.28418592e-02,  6.76052272e-02,  6.59490749e-02,  1.20368026e-01,\n",
       "       -4.69031818e-02,  2.23703030e-02, -1.02816239e-01,  1.27153262e-01,\n",
       "        2.88832877e-02,  8.36535636e-03, -6.40963614e-02,  1.70109712e-03,\n",
       "        2.09789366e-01,  1.74145140e-02,  1.63363535e-02, -1.48271658e-02,\n",
       "       -6.54861555e-02,  5.50748967e-02,  6.18712860e-04, -2.57574059e-02,\n",
       "       -4.39544991e-02, -1.49476916e-01,  2.65760850e-02,  1.18402168e-01,\n",
       "       -8.96301195e-02,  2.93851178e-02, -1.14604510e-01,  1.73019106e-03,\n",
       "        1.46796042e-02,  1.26101589e-02, -6.77266866e-02,  1.70301367e-02,\n",
       "       -3.43691483e-02, -3.50457593e-03,  5.33885360e-02,  7.53420442e-02,\n",
       "        3.69573832e-02,  5.38995601e-02, -5.48385568e-02,  3.35298181e-02,\n",
       "        7.53490254e-02,  4.88047414e-02, -8.87627453e-02, -4.28417698e-02,\n",
       "       -1.77993998e-02, -4.37957384e-02, -3.68070044e-02,  5.37271835e-02,\n",
       "        3.16818431e-02,  5.76588698e-02,  6.82683215e-02,  2.14293450e-02,\n",
       "        7.27732182e-02, -9.28242877e-02, -2.07950752e-02, -1.22428492e-01,\n",
       "       -1.08845674e-01,  2.40274221e-02,  4.23071235e-02,  3.36498395e-02,\n",
       "       -2.67234500e-02, -4.49171253e-02,  4.13980410e-02,  2.63958246e-01,\n",
       "        7.76787698e-02, -2.34194435e-02, -5.09727672e-02,  4.57210727e-02,\n",
       "        1.03820235e-01,  1.00841358e-01, -3.87130864e-02,  1.17647812e-01,\n",
       "        3.70283127e-02, -8.52401406e-02, -2.53780242e-02, -6.42316565e-02,\n",
       "        3.54179382e-01, -4.91650701e-02,  1.12526655e-01, -9.73423757e-03,\n",
       "       -1.07725635e-01, -1.03580736e-01,  3.12499050e-02, -9.34761763e-03,\n",
       "        1.03496304e-02,  1.22238718e-01, -1.16449473e-02,  1.34084597e-01,\n",
       "        1.74946710e-01,  3.74038257e-02, -2.33065188e-02, -8.65740888e-03,\n",
       "       -5.01517430e-02, -5.77020235e-02,  6.16992861e-02, -2.52832696e-02,\n",
       "        1.26643524e-01, -6.53866082e-02, -2.26307496e-01,  4.88288328e-02,\n",
       "        6.64003044e-02, -8.57542008e-02, -5.17220460e-02,  6.36212202e-03,\n",
       "        2.46153399e-03, -5.70151322e-02, -7.77102681e-03,  8.83154795e-02],\n",
       "      dtype=float32)"
      ]
     },
     "execution_count": 53,
     "metadata": {},
     "output_type": "execute_result"
    }
   ],
   "source": [
    "X[0]"
   ]
  },
  {
   "cell_type": "markdown",
   "metadata": {},
   "source": [
    "## Challenge\n",
    "\n",
    "You will extract word embeddings from documents using Spacy's pretrained model in the upcoming module project. "
   ]
  },
  {
   "cell_type": "markdown",
   "metadata": {},
   "source": [
    "# Review\n",
    "For your module project assignment you will create vector repsentations of indeed.com Data Science job listings. You will then estimate a similarity model to perform searches for job descriptions. Get started with your [module project here](./LS_DS_412_Vector_Representations_Assignment.ipynb)"
   ]
  },
  {
   "cell_type": "markdown",
   "metadata": {},
   "source": [
    "# Sources\n",
    "\n",
    "* Spacy 101 - https://course.spacy.io\n",
    "* NLTK Book - https://www.nltk.org/book/\n",
    "* An Introduction to Information Retrieval - https://nlp.stanford.edu/IR-book/pdf/irbookonlinereading.pdf"
   ]
  }
 ],
 "metadata": {
  "kernelspec": {
   "display_name": "U4-S1-NLP (Python3)",
   "language": "python",
   "name": "u4-s1-nlp"
  },
  "language_info": {
   "codemirror_mode": {
    "name": "ipython",
    "version": 3
   },
   "file_extension": ".py",
   "mimetype": "text/x-python",
   "name": "python",
   "nbconvert_exporter": "python",
   "pygments_lexer": "ipython3",
   "version": "3.7.0"
  }
 },
 "nbformat": 4,
 "nbformat_minor": 4
}
